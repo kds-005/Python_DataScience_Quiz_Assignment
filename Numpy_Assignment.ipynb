{
  "nbformat": 4,
  "nbformat_minor": 0,
  "metadata": {
    "colab": {
      "provenance": []
    },
    "kernelspec": {
      "name": "python3",
      "display_name": "Python 3"
    },
    "language_info": {
      "name": "python"
    }
  },
  "cells": [
    {
      "cell_type": "code",
      "execution_count": 2,
      "metadata": {
        "id": "oG5xY7LLwLNO"
      },
      "outputs": [],
      "source": [
        "import numpy as np"
      ]
    },
    {
      "cell_type": "markdown",
      "source": [
        "# Problem Statement:\n",
        "You work in XYZ Corporation as a Data Analyst. Your corporation has told you to\n",
        "work with the structure of the data.\n",
        "# Tasks To Be Performed:\n",
        "1. Create a list named ‘myList’ that has the following elements: 10, 20, 30,\n",
        "‘apple’, True, 8.10:\n",
        "<br><br>a. Now in the ‘myList’, append these values: 30, 40\n",
        "<br><br>b. After that, reverse the elements of the ‘myList’ and store that in\n",
        "‘reversedList’\n",
        "<br><br>\n",
        "2. Create a dictionary with key values as 1, 2, 3 and the values as ‘data’,\n",
        "‘information’ and ‘text’:\n",
        "<br><br>a. After that, eliminate the ‘text’ value from the dictionary\n",
        "<br><br>b. Add ‘features’ in the dictionary\n",
        "<br><br>c. Fetch the ‘data’ element from the dictionary and display it in the output\n",
        "<br><br>\n",
        "3. Create a tuple and add these elements 1, 2, 3, apple, mango in my_tuple.\n",
        "<br><br>\n",
        "4. Create another tuple named numeric_tuple consisting of only integer\n",
        "values 10, 20, 30, 40, 50:\n",
        "<br><br>a. Find the minimum value from the numeric_tuple\n",
        "<br><br>b. Concatenate my_tuple with numeric_tuple and store the result in r1\n",
        "<br><br>c. Duplicate the tuple named my_tuple 2 times and store that in ‘newdupli’\n",
        "<br><br>\n",
        "5. Create 2 sets with the names set1 and set2, where set1 contains\n",
        "{1,2,3,4,5} and set2 contains {2,3,7,6,1}\n",
        "<br><br>Perform the below operation:\n",
        "<br>a. set1 union set2\n",
        "<br>b. set1 intersection set2\n",
        "<br>c. set1 difference set2\n"
      ],
      "metadata": {
        "id": "DSTV52LrwU2y"
      }
    },
    {
      "cell_type": "code",
      "source": [
        "# 1\n",
        "my_list = [10,20,30,'apple',True,8,10]\n",
        "\n",
        "my_list.append(30)# a\n",
        "my_list.append(40)\n",
        "\n",
        "reversed_list = my_list[::-1]# b\n",
        "reversed_list"
      ],
      "metadata": {
        "colab": {
          "base_uri": "https://localhost:8080/"
        },
        "id": "vqqryIaiwSNO",
        "outputId": "6066cdc7-1f60-441f-dd17-9a5733b73f7e"
      },
      "execution_count": 4,
      "outputs": [
        {
          "output_type": "execute_result",
          "data": {
            "text/plain": [
              "[40, 30, 10, 8, True, 'apple', 30, 20, 10]"
            ]
          },
          "metadata": {},
          "execution_count": 4
        }
      ]
    },
    {
      "cell_type": "code",
      "source": [
        "# 2\n",
        "my_dict = {1:\"data\",\n",
        "           2:\"information\",\n",
        "           3:\"text\"}\n",
        "\n",
        "my_dict.pop(3)# a\n",
        "print(my_dict)\n",
        "\n",
        "my_dict[4] = \"features\"# b\n",
        "print(my_dict)\n",
        "\n",
        "print(my_dict.get(1))# c"
      ],
      "metadata": {
        "colab": {
          "base_uri": "https://localhost:8080/"
        },
        "id": "y5QpqSGAxe6z",
        "outputId": "336c1284-2c86-45a1-e3cc-258dd7610cd4"
      },
      "execution_count": 16,
      "outputs": [
        {
          "output_type": "stream",
          "name": "stdout",
          "text": [
            "{1: 'data', 2: 'information'}\n",
            "{1: 'data', 2: 'information', 4: 'features'}\n",
            "data\n"
          ]
        }
      ]
    },
    {
      "cell_type": "code",
      "source": [
        "# 3\n",
        "my_tuple = ()\n",
        "\n",
        "my_tuple += (1,2,3,'apple','mango')\n",
        "print(my_tuple)\n",
        "\n",
        "# 4\n",
        "numeric_tuple = (10,20,30,40,50)\n",
        "print(min(numeric_tuple))# a\n",
        "\n",
        "r1 = my_tuple + numeric_tuple# b\n",
        "print(r1)\n",
        "\n",
        "newdupli = my_tuple*2 # c\n",
        "print(newdupli)"
      ],
      "metadata": {
        "colab": {
          "base_uri": "https://localhost:8080/"
        },
        "id": "MLu7yI0kyMPe",
        "outputId": "5a6f5f1d-82ad-470f-c31f-1c7f950ab102"
      },
      "execution_count": 24,
      "outputs": [
        {
          "output_type": "stream",
          "name": "stdout",
          "text": [
            "(1, 2, 3, 'apple', 'mango')\n",
            "10\n",
            "(1, 2, 3, 'apple', 'mango', 10, 20, 30, 40, 50)\n",
            "(1, 2, 3, 'apple', 'mango', 1, 2, 3, 'apple', 'mango')\n"
          ]
        }
      ]
    },
    {
      "cell_type": "code",
      "source": [
        "# 5\n",
        "set1 = {1,2,3,4,5}\n",
        "set2 = {2,3,7,6,1}\n",
        "\n",
        "print(set1.union(set2)) # a\n",
        "print(set1.intersection(set2)) # b\n",
        "print(set1.difference(set2)) # c"
      ],
      "metadata": {
        "colab": {
          "base_uri": "https://localhost:8080/"
        },
        "id": "vr88wn0z1Ch4",
        "outputId": "55b22d67-c253-4061-8323-f68d28da7a95"
      },
      "execution_count": 26,
      "outputs": [
        {
          "output_type": "stream",
          "name": "stdout",
          "text": [
            "{1, 2, 3, 4, 5, 6, 7}\n",
            "{1, 2, 3}\n",
            "{4, 5}\n"
          ]
        }
      ]
    },
    {
      "cell_type": "markdown",
      "source": [
        "# Problem Statement:\n",
        "You work in XYZ Corporation as a Data Analyst. Your corporation has told you to\n",
        "use the NumPy package and do some tasks related to that.\n",
        "# Tasks To Be Performed:\n",
        "1. Create a 3x3 matrix array with values ranging from 2 to 10.\n",
        "<br><br>\n",
        "2. Create a NumPy array having user input values and convert the integer\n",
        "type to the float type of the elements of the array. For instance: Original\n",
        "array [1, 2, 3, 4] Array converted to a float type: [ 1. 2. 3. 4.]\n",
        "<br><br>\n",
        "3. Write a NumPy program to append values to the end of an array. For\n",
        "instance: Original array: [10, 20, 30] . After that, append values to the end\n",
        "of the array: [10 20 30 40 50 60 70 80 90]\n",
        "<br><br>\n",
        "4. Create two NumPy arrays and add the elements of both the arrays and\n",
        "store the result in sumArray.\n",
        "<br><br>\n",
        "5. Create a 3x3 array having values from 10-90 (interval of 10) and store that\n",
        "in array1\n",
        "<br><br>\n",
        "Perform the following tasks:\n",
        "<br>a. Extract the 1st row from the array\n",
        "<br>b. Extract the last element from the array"
      ],
      "metadata": {
        "id": "HrchbUC62Hca"
      }
    },
    {
      "cell_type": "code",
      "source": [
        "#1\n",
        "np.arange(2,10+1).reshape((3,3))"
      ],
      "metadata": {
        "colab": {
          "base_uri": "https://localhost:8080/"
        },
        "id": "33xBjnGg2YXG",
        "outputId": "51c8101b-70d9-4835-feb6-296fdfa44586"
      },
      "execution_count": 30,
      "outputs": [
        {
          "output_type": "execute_result",
          "data": {
            "text/plain": [
              "array([[ 2,  3,  4],\n",
              "       [ 5,  6,  7],\n",
              "       [ 8,  9, 10]])"
            ]
          },
          "metadata": {},
          "execution_count": 30
        }
      ]
    },
    {
      "cell_type": "code",
      "source": [
        "# 2\n",
        "arr = np.array([1,2,3,4])\n",
        "arr.astype(dtype=float)"
      ],
      "metadata": {
        "colab": {
          "base_uri": "https://localhost:8080/"
        },
        "id": "12v-F7O23Orb",
        "outputId": "8d756bcc-b137-46d8-ce09-3e5d79af9417"
      },
      "execution_count": 36,
      "outputs": [
        {
          "output_type": "execute_result",
          "data": {
            "text/plain": [
              "array([1., 2., 3., 4.])"
            ]
          },
          "metadata": {},
          "execution_count": 36
        }
      ]
    },
    {
      "cell_type": "code",
      "source": [
        "# 3\n",
        "arr = np.array([10,20,30])\n",
        "arr = np.append(arr,40)\n",
        "arr = np.append(arr,50)\n",
        "arr = np.append(arr,60)\n",
        "arr = np.append(arr,70)\n",
        "arr = np.append(arr,80)\n",
        "arr = np.append(arr,90)\n",
        "arr"
      ],
      "metadata": {
        "colab": {
          "base_uri": "https://localhost:8080/"
        },
        "id": "fWr9O75y4rpT",
        "outputId": "b0b1a24f-5ff6-4810-873a-a86087dc0edd"
      },
      "execution_count": 45,
      "outputs": [
        {
          "output_type": "execute_result",
          "data": {
            "text/plain": [
              "array([10, 20, 30, 40, 50, 60, 70, 80, 90])"
            ]
          },
          "metadata": {},
          "execution_count": 45
        }
      ]
    },
    {
      "cell_type": "code",
      "source": [
        "# 4\n",
        "arr1 = np.array([1,1,2,3,1])\n",
        "arr2 = np.array([2,1,7,5,2])\n",
        "\n",
        "sumArray = np.add(arr1,arr2)\n",
        "sumArray"
      ],
      "metadata": {
        "colab": {
          "base_uri": "https://localhost:8080/"
        },
        "id": "YdKrZsOa6438",
        "outputId": "1456c39f-7356-4424-e4f8-b09250d8af00"
      },
      "execution_count": 59,
      "outputs": [
        {
          "output_type": "execute_result",
          "data": {
            "text/plain": [
              "array([3, 2, 9, 8, 3])"
            ]
          },
          "metadata": {},
          "execution_count": 59
        }
      ]
    },
    {
      "cell_type": "code",
      "source": [
        "# 5\n",
        "array1 = np.arange(10,90+10,10).reshape((3,3))\n",
        "\n",
        "print(array1[:1,:])# a\n",
        "print(array1[-1:,-1:])# b"
      ],
      "metadata": {
        "colab": {
          "base_uri": "https://localhost:8080/"
        },
        "id": "TblFBORN5CJ0",
        "outputId": "fdc819b7-3014-4fba-c335-4e0536a796eb"
      },
      "execution_count": 57,
      "outputs": [
        {
          "output_type": "stream",
          "name": "stdout",
          "text": [
            "[[10 20 30]]\n",
            "[[90]]\n"
          ]
        }
      ]
    },
    {
      "cell_type": "markdown",
      "source": [
        "#Problem Statement:\n",
        "You work in XYZ Company as a Python developer. The company officials want\n",
        "you to build a Python program.\n",
        "#Tasks To Be Performed:\n",
        "1. Create a function that takes dimensions as tuples e.g. (3, 3) and a numeric\n",
        "value and returns a NumPy array of the given dimension filled with the\n",
        "given value e.g.: solve((3, 3), 5) will return\n",
        "<br>[\n",
        "<br>[5, 5, 5],\n",
        "<br>[5, 5, 5],\n",
        "<br>[5, 5, 5]\n",
        "<br>]\n",
        "<br><br>\n",
        "2. Create a method that takes n NumPy arrays of the same dimensions,\n",
        "sums them and returns the answer.\n",
        "<br><br>\n",
        "3. Given a 2 D Array of N X M Dimension, write a function that accepts this\n",
        "array as well as two numbers N and M. The method should return the\n",
        "top-left N X M sub matrix, e.g:\n",
        "<br>[\n",
        "<br>[1, 2, 3],\n",
        "<br>[4, 5, 6],\n",
        "<br>[7, 8, 9],\n",
        "<br>]\n",
        "<br>top_left_sub_matrix (matrix, 2, 2) -> should return:\n",
        "<br>[\n",
        "<br>[1, 2]\n",
        "<br>[4, 5]\n",
        "<br>]\n",
        "<br><br>\n",
        "4. Given a 2 D Array of N X M Dimension, write a function that accepts this\n",
        "array as well as two numbers N and M. The method should return the\n",
        "bottom-right N X M sub matrix, e.g:\n",
        "<br>[\n",
        "<br>[1, 2, 3],\n",
        "<br>[4, 5, 6],\n",
        "<br>[7, 8, 9],\n",
        "<br>]\n",
        "<br>sub_matrix(matrix, 1, 1) -> should return : (Keep in mind these arrays are\n",
        "zero indexed)\n",
        "<br>[\n",
        "<br>[5, 6]\n",
        "<br>[8, 9]\n",
        "<br>]\n",
        "<br><br>\n",
        "5. Given a 1 D NumPy Array. Write a function that accepts this array as\n",
        "parameters. The method should return a dictionary with 'mean' and\n",
        "'std_dev' as key and array's mean and array's standard deviation as\n",
        "values:\n",
        "<br>[1, 1, 1]\n",
        "<br>solution(arr) -> should return :\n",
        "<br>{'mean': 1.0, 'std_dev': 0.0}"
      ],
      "metadata": {
        "id": "fRvBjXMR7RV1"
      }
    },
    {
      "cell_type": "code",
      "source": [
        "# 1\n",
        "def solve(dims, num):\n",
        "  return np.full(dims,num)\n",
        "\n",
        "solve((2,3),2)"
      ],
      "metadata": {
        "colab": {
          "base_uri": "https://localhost:8080/"
        },
        "id": "7AoOu_LM8WSR",
        "outputId": "87f61cab-4421-47de-92e5-8cb928d76fde"
      },
      "execution_count": 6,
      "outputs": [
        {
          "output_type": "execute_result",
          "data": {
            "text/plain": [
              "array([[2, 2, 2],\n",
              "       [2, 2, 2]])"
            ]
          },
          "metadata": {},
          "execution_count": 6
        }
      ]
    },
    {
      "cell_type": "code",
      "source": [
        "# 2\n",
        "def addition(arr_list):\n",
        "  sums = np.empty(arr_list[0].shape)\n",
        "  for i in arr_list:\n",
        "    sums = np.add(sums, i)\n",
        "  return sums.astype(dtype=int)\n",
        "\n",
        "arr1 = np.array([[1,2,3],[2,1,4],[1,1,1]])\n",
        "arr2 = np.array([[2,2,3],[1,2,6],[2,1,2]])\n",
        "addition([arr1,arr2])"
      ],
      "metadata": {
        "colab": {
          "base_uri": "https://localhost:8080/"
        },
        "id": "RnDTBg3QOIiv",
        "outputId": "77693e86-c533-4f5d-935c-10dc03abb672"
      },
      "execution_count": 8,
      "outputs": [
        {
          "output_type": "execute_result",
          "data": {
            "text/plain": [
              "array([[ 6,  8, 12],\n",
              "       [ 6,  6, 20],\n",
              "       [ 6,  4,  6]])"
            ]
          },
          "metadata": {},
          "execution_count": 8
        }
      ]
    },
    {
      "cell_type": "code",
      "source": [
        "# 3\n",
        "def top_sub_matrix(matrix,m,n):\n",
        "  return matrix[:m,:n]\n",
        "\n",
        "arr = np.array([[1,2,4],[2,1,3],[1,3,1]])\n",
        "top_sub_matrix(arr,2,2)"
      ],
      "metadata": {
        "colab": {
          "base_uri": "https://localhost:8080/"
        },
        "id": "JKD1YSGDW-zr",
        "outputId": "82e2920f-5b62-43f5-a04f-47ae619de663"
      },
      "execution_count": 19,
      "outputs": [
        {
          "output_type": "execute_result",
          "data": {
            "text/plain": [
              "array([[1, 2],\n",
              "       [2, 1]])"
            ]
          },
          "metadata": {},
          "execution_count": 19
        }
      ]
    },
    {
      "cell_type": "code",
      "source": [
        "# 4\n",
        "def bot_sub_matrix(matrix,m,n):\n",
        "  return matrix[m:,n:]\n",
        "\n",
        "arr = np.array([[1,2,4],[2,1,3],[1,3,1]])\n",
        "bot_sub_matrix(arr,1,1)"
      ],
      "metadata": {
        "colab": {
          "base_uri": "https://localhost:8080/"
        },
        "id": "17THLo_oYhzV",
        "outputId": "9f37c159-fe1d-46d4-86ea-8c3653aad32a"
      },
      "execution_count": 20,
      "outputs": [
        {
          "output_type": "execute_result",
          "data": {
            "text/plain": [
              "array([[1, 3],\n",
              "       [3, 1]])"
            ]
          },
          "metadata": {},
          "execution_count": 20
        }
      ]
    },
    {
      "cell_type": "code",
      "source": [
        "# 5\n",
        "def describe(arr):\n",
        "  return {\"mean\":np.mean(arr), \"std_dev\":np.std(arr)}\n",
        "\n",
        "\n",
        "arr = np.array([1,2,1,5,2,5,2,4])\n",
        "describe(arr)"
      ],
      "metadata": {
        "colab": {
          "base_uri": "https://localhost:8080/"
        },
        "id": "5GX_POtZZHt-",
        "outputId": "ba3370c8-6331-4d13-9eea-7420b23a850c"
      },
      "execution_count": 22,
      "outputs": [
        {
          "output_type": "execute_result",
          "data": {
            "text/plain": [
              "{'mean': 2.75, 'std_dev': 1.5612494995995996}"
            ]
          },
          "metadata": {},
          "execution_count": 22
        }
      ]
    }
  ]
}