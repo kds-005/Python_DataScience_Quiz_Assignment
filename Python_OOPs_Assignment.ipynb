{
  "nbformat": 4,
  "nbformat_minor": 0,
  "metadata": {
    "colab": {
      "provenance": []
    },
    "kernelspec": {
      "name": "python3",
      "display_name": "Python 3"
    },
    "language_info": {
      "name": "python"
    }
  },
  "cells": [
    {
      "cell_type": "markdown",
      "source": [
        "# Problem Statement:\n",
        "You work in XYZ Corporation as a Data Analyst. Your corporation has told you to\n",
        "work on functions and classes.\n",
        "# Tasks To Be Performed:\n",
        "1. Create a function named ‘factor’ that can only accept 1 argument. The\n",
        "function should return the factorial of that number.<br><br>\n",
        "2. Create a function named ‘check_string’, the function should accept a string\n",
        "data from the user and the function should check if the user input contains\n",
        "the letter ‘s’ in it. If it contains the letter ‘s’ then print- ‘The string is\n",
        "containing the letter ‘s’’, if not then print- ‘The string doesn’t contain the\n",
        "letter ‘s’’.\n",
        "<br><br>\n",
        "3. Create a class named ‘student’ and inside the class, create a function\n",
        "named ‘fun1’- this method should accept the user defined input and return\n",
        "that value:\n",
        "<br>a. Create another method named- message() and that method should print\n",
        "the user defined input that we have defined in ‘fun1’.\n",
        "<br><br>\n",
        "4. Create a lambda function that should double or multiply the number (that\n",
        "we will be passing in the lambda function) by 2. Store the lambda function\n",
        "in a variable named ‘double_num’.\n",
        "<br><br>\n",
        "5. Take user input string and check whether that string is palindrome or not.\n"
      ],
      "metadata": {
        "id": "b0QCDzwbjEvK"
      }
    },
    {
      "cell_type": "code",
      "execution_count": 38,
      "metadata": {
        "colab": {
          "base_uri": "https://localhost:8080/"
        },
        "id": "dKdgfnyfiknK",
        "outputId": "658cc591-08b5-4199-c894-53dcf170b4cb"
      },
      "outputs": [
        {
          "output_type": "execute_result",
          "data": {
            "text/plain": [
              "[1, 2, 3, 6, 7, 14, 21, 42]"
            ]
          },
          "metadata": {},
          "execution_count": 38
        }
      ],
      "source": [
        "# 1\n",
        "def factor(num):\n",
        "  return [i for i in range(1,num+1) if(num%i == 0)]\n",
        "\n",
        "factor(42)"
      ]
    },
    {
      "cell_type": "code",
      "source": [
        "# 2\n",
        "def check_string():\n",
        "  str = input(\"Enter a string \")\n",
        "  if('s' in str):\n",
        "    print(f\"The string '{str}' is containing the letter 's'\")\n",
        "  else:\n",
        "    print(f\"The string '{str}' doesn’t contain the letter 's'\")\n",
        "\n",
        "check_string()"
      ],
      "metadata": {
        "colab": {
          "base_uri": "https://localhost:8080/"
        },
        "id": "iEc_bjdRlaQ6",
        "outputId": "b45d42d8-8152-4c1d-987e-22a16c6b2233"
      },
      "execution_count": 39,
      "outputs": [
        {
          "output_type": "stream",
          "name": "stdout",
          "text": [
            "Enter a string fshasd\n",
            "The string 'fshasd' is containing the letter 's'\n"
          ]
        }
      ]
    },
    {
      "cell_type": "code",
      "source": [
        "# 3\n",
        "class student:\n",
        "  def fun1(self):\n",
        "    self.name = input(\"Enter the Student's Name: \")\n",
        "    return self.name\n",
        "\n",
        "def message():\n",
        "  stu_obj1 = student()\n",
        "  print(stu_obj1.fun1())\n",
        "\n",
        "message()"
      ],
      "metadata": {
        "colab": {
          "base_uri": "https://localhost:8080/"
        },
        "id": "ddgsHj2GnAO_",
        "outputId": "36255f4c-109f-4a89-9be8-99612b0b1580"
      },
      "execution_count": 40,
      "outputs": [
        {
          "output_type": "stream",
          "name": "stdout",
          "text": [
            "Enter the Student's Name: Dhaya\n",
            "Dhaya\n"
          ]
        }
      ]
    },
    {
      "cell_type": "code",
      "source": [
        "# 4\n",
        "double_num = lambda num1:num1*2\n",
        "\n",
        "double_num(10)"
      ],
      "metadata": {
        "colab": {
          "base_uri": "https://localhost:8080/"
        },
        "id": "lkZXrrAooBMh",
        "outputId": "e8afeecd-20ef-4fc2-ce81-c7b0ed72fc1c"
      },
      "execution_count": 41,
      "outputs": [
        {
          "output_type": "execute_result",
          "data": {
            "text/plain": [
              "20"
            ]
          },
          "metadata": {},
          "execution_count": 41
        }
      ]
    },
    {
      "cell_type": "code",
      "source": [
        "# 5\n",
        "def is_palindrome(str):\n",
        "  start = 0\n",
        "  end = len(str)-1\n",
        "  while(start <= end):\n",
        "    if(str[start]==str[end]):\n",
        "      start+=1\n",
        "      end-=1\n",
        "    else:\n",
        "      return False\n",
        "  return True\n",
        "\n",
        "str = input(\"Enter the string to check if is the pandlindrome: \")\n",
        "if(is_palindrome(str)):\n",
        "  print(f\"The given '{str}' is a palindrome\")\n",
        "else:\n",
        "  print(f\"The given '{str}' is not a palindrome\")"
      ],
      "metadata": {
        "colab": {
          "base_uri": "https://localhost:8080/"
        },
        "id": "8QbAk9xLp74i",
        "outputId": "3ed49436-e44b-4a7c-d290-c143e85fca0b"
      },
      "execution_count": 42,
      "outputs": [
        {
          "output_type": "stream",
          "name": "stdout",
          "text": [
            "Enter the string to check if is the pandlindrome: dad\n",
            "The given 'dad' is a palindrome\n"
          ]
        }
      ]
    },
    {
      "cell_type": "markdown",
      "source": [
        "# Problem Statement:\n",
        "You work in XYZ Corporation as a Python Developer. Your corporation has told\n",
        "you to work with the methods, and functions in Python.\n",
        "# Tasks To Be Performed:\n",
        "1. Create a class named ‘Super’ and inside that class define a user-defined\n",
        "function named fun1\n",
        "<br><br>a. Inside the ‘fun1’ function, pass the message “This is function 1 in the\n",
        "Super class.” in the print statement.\n",
        "<br><br>\n",
        "2. Create another class named ‘Modified_Super’ and inherit this class from\n",
        "the Super class\n",
        "<br><br>a. Inside the Modified_Super class, create a function named ‘fun1’ and\n",
        "pass the following message inside the print statement: ‘This is function 1 in\n",
        "the Modified Super class.’\n",
        "<br><br>b. Create another user-defined function named ‘fun2’ and pass the\n",
        "message: ‘This is the 2 nd function from the Modified Super class’ in the\n",
        "print statement.\n",
        "<br><br>c. After that, now create an object for the Modified_Super class and call the\n",
        "fun1().\n",
        "<br><br>\n",
        "3. Create 2 methods named ‘Hello’. In the 1st Hello method, pass only one\n",
        "argument and pass this message: ‘This function is only having 1\n",
        "argument’. And in the 2nd Hello method, pass two arguments and pass\n",
        "this message: ‘This function is having 2 arguments’.\n",
        "<br><br>a. Try to call both the methods and analyze the output of both the methods.\n",
        "<br><br>\n",
        "4. Create a method named ‘Sum’ that can accept multiple user inputs. Now\n",
        "add those user defined input values using for loop and the function should\n",
        "return the addition of the numbers.\n",
        "<br><br>\n",
        "5. Create a class named ‘Encapsulation’:\n",
        "<br><br>a. Inside the class, first create a constructor. Inside the constructor,\n",
        "initialize originalValue variable as 10.\n",
        "<br><br>b. After creating the constructor, define a function named ‘Value’ and this\n",
        "function should return the variable that we have initialized in the\n",
        "constructor\n",
        "<br><br>c. Now create a 2nd function named setValue, and pass an argument\n",
        "named ‘newValue’. The task of this function will be to replace the value of\n",
        "the originalValue variable by the value of newValue variable."
      ],
      "metadata": {
        "id": "66m_Ir_ssdZD"
      }
    },
    {
      "cell_type": "code",
      "source": [
        "# 1\n",
        "class Super:\n",
        "  def fun1(self): # a\n",
        "    print(\"This is function 1 in the Super class\")\n"
      ],
      "metadata": {
        "id": "n4-cqp8ds7hN"
      },
      "execution_count": 43,
      "outputs": []
    },
    {
      "cell_type": "code",
      "source": [
        "# 2\n",
        "class Modified_Super(Super):\n",
        "  def fun1(self): # a\n",
        "    print(\"This is function 1 in the Modified Super class\")\n",
        "\n",
        "  def fun2(self): # b\n",
        "    print(\"This is function 2 in the Modified Super class\")\n",
        "\n",
        "obj1 = Modified_Super()\n",
        "obj1.fun1()"
      ],
      "metadata": {
        "colab": {
          "base_uri": "https://localhost:8080/"
        },
        "id": "P-h41AS97JhL",
        "outputId": "00d7a565-4347-40e7-c329-a03399f5c507"
      },
      "execution_count": 44,
      "outputs": [
        {
          "output_type": "stream",
          "name": "stdout",
          "text": [
            "This is function 1 in the Modified Super class\n"
          ]
        }
      ]
    },
    {
      "cell_type": "code",
      "source": [
        "# 3\n",
        "class Super:\n",
        "  def Hello(self, a):\n",
        "    print(\"This Function only takes one argument\")\n",
        "  def Hello(self, a, b):\n",
        "    print(\"This Function take two arguments\")\n",
        "\n",
        "obj = Super()\n",
        "#obj.Hello(1)# a TypeError\n",
        "obj.Hello(1,1)# b"
      ],
      "metadata": {
        "colab": {
          "base_uri": "https://localhost:8080/"
        },
        "id": "GQjoQaCm8QVc",
        "outputId": "549264b5-7f3e-4335-821c-6a42c723f126"
      },
      "execution_count": 46,
      "outputs": [
        {
          "output_type": "stream",
          "name": "stdout",
          "text": [
            "This Function take two arguments\n"
          ]
        }
      ]
    },
    {
      "cell_type": "code",
      "source": [
        "# 4\n",
        "class Super:\n",
        "  sum = 0\n",
        "  def Sum(self,arr):\n",
        "    for i in arr:\n",
        "      self.sum+=i\n",
        "    return self.sum\n",
        "\n",
        "obj = Super()\n",
        "obj.Sum([1,4,5,1])"
      ],
      "metadata": {
        "colab": {
          "base_uri": "https://localhost:8080/"
        },
        "id": "X0DmUdWb9zas",
        "outputId": "f5e286cc-2279-4bef-faa0-d57d96f5c007"
      },
      "execution_count": 47,
      "outputs": [
        {
          "output_type": "execute_result",
          "data": {
            "text/plain": [
              "11"
            ]
          },
          "metadata": {},
          "execution_count": 47
        }
      ]
    },
    {
      "cell_type": "code",
      "source": [
        "# 5\n",
        "class Encapsulation:\n",
        "  def __init__(self):# a\n",
        "    self.originalValue = 10\n",
        "\n",
        "  def Value(self):\n",
        "    return self.originalValue\n",
        "\n",
        "  def setValue(self, newValue):\n",
        "    self.originalValue = newValue\n",
        "\n",
        "obj = Encapsulation()\n",
        "print(obj.Value())\n",
        "obj.setValue(34)\n",
        "print(obj.Value())"
      ],
      "metadata": {
        "colab": {
          "base_uri": "https://localhost:8080/"
        },
        "id": "rx4g3sVg-tGL",
        "outputId": "f818a170-21ce-4cf3-d208-8424c313b5ff"
      },
      "execution_count": 48,
      "outputs": [
        {
          "output_type": "stream",
          "name": "stdout",
          "text": [
            "10\n",
            "34\n"
          ]
        }
      ]
    },
    {
      "cell_type": "markdown",
      "source": [
        "# Problem Statement:\n",
        "You work in XYZ Corporation as a Data Analyst. Your corporation has told you to\n",
        "work on importing various functions.\n",
        "# Tasks To Be Performed:\n",
        "1. Create a Python file named Module:\n",
        "<br><br>a. Inside the file, define 4 methods named – addition, subtraction,\n",
        "multiplication, and division.\n",
        "<br><br>b. Each method should only accept 2 arguments and should return the\n",
        "result of operation performed in each method. For e.g., addition() should\n",
        "return the sum of two arguments.\n",
        "<br><br>c. Save the Module file in .py format.\n",
        "<br><br>\n",
        "2. Open a new python file and import the Module.py file\n",
        "<br><br>a. Now call the 4 methods from the Module.py file, i.e., addition(),\n",
        "subtraction(), multiplication(), and division().\n",
        "<br><br>\n",
        "3. From the Module file, import only the addition() and pass the arguments so\n",
        "that it can display the result from the method.\n",
        "<br><br>\n",
        "4. From the Module file, import only the subtraction() and pass the arguments\n",
        "so that it can display the result from the method.\n",
        "<br><br>\n",
        "5. From the Module file, import both the multiplication() and division() and\n",
        "pass the arguments so that it can display the result from the methods.\n"
      ],
      "metadata": {
        "id": "I7yozuhuAVbp"
      }
    },
    {
      "cell_type": "code",
      "source": [
        "'''\n",
        "# 1\n",
        "#Module.py\n",
        "\n",
        "def add(a,b):\n",
        "  return a+b\n",
        "def sub(a,b):\n",
        "  return a-b\n",
        "def multi(a,b):\n",
        "  return a*b\n",
        "def divide(a,b):\n",
        "  return a/b\n",
        "'''"
      ],
      "metadata": {
        "id": "BtRXaw54AslU",
        "colab": {
          "base_uri": "https://localhost:8080/",
          "height": 53
        },
        "outputId": "4756a80b-a4e9-489e-c487-38cccfe30ffe"
      },
      "execution_count": 49,
      "outputs": [
        {
          "output_type": "execute_result",
          "data": {
            "text/plain": [
              "'\\n# 1\\n#Module.py\\n\\ndef add(a,b):\\n  return a+b\\ndef sub(a,b):\\n  return a-b\\ndef multi(a,b):\\n  return a*b\\ndef divide(a,b):\\n  return a/b\\n'"
            ],
            "application/vnd.google.colaboratory.intrinsic+json": {
              "type": "string"
            }
          },
          "metadata": {},
          "execution_count": 49
        }
      ]
    },
    {
      "cell_type": "code",
      "source": [
        "# 2\n",
        "import Module as md\n",
        "\n",
        "md.add(1,2)\n",
        "md.sub(1,2)\n",
        "md.multi(1,2)\n",
        "md.divide(1,2)"
      ],
      "metadata": {
        "colab": {
          "base_uri": "https://localhost:8080/"
        },
        "id": "WuiyepxzLCst",
        "outputId": "08c00666-a9fb-4476-9aad-d48b46eebb83"
      },
      "execution_count": 50,
      "outputs": [
        {
          "output_type": "execute_result",
          "data": {
            "text/plain": [
              "0.5"
            ]
          },
          "metadata": {},
          "execution_count": 50
        }
      ]
    },
    {
      "cell_type": "code",
      "source": [
        "# 3\n",
        "from Module import add\n",
        "\n",
        "add(1,2)"
      ],
      "metadata": {
        "id": "_gYEyWgOM_b9",
        "colab": {
          "base_uri": "https://localhost:8080/"
        },
        "outputId": "8e9653b1-6a29-4f5c-bd6e-63a567359c54"
      },
      "execution_count": 51,
      "outputs": [
        {
          "output_type": "execute_result",
          "data": {
            "text/plain": [
              "3"
            ]
          },
          "metadata": {},
          "execution_count": 51
        }
      ]
    },
    {
      "cell_type": "code",
      "source": [
        "# 4\n",
        "from Module import sub\n",
        "\n",
        "sub(1,2)"
      ],
      "metadata": {
        "colab": {
          "base_uri": "https://localhost:8080/"
        },
        "id": "oBPJaDDejXJP",
        "outputId": "8e5ad7e7-2be8-432e-c74c-10f44ac44476"
      },
      "execution_count": 52,
      "outputs": [
        {
          "output_type": "execute_result",
          "data": {
            "text/plain": [
              "-1"
            ]
          },
          "metadata": {},
          "execution_count": 52
        }
      ]
    },
    {
      "cell_type": "code",
      "source": [
        "# 5\n",
        "from Module import multi,divide\n",
        "\n",
        "print(multi(1,2))\n",
        "divide(1,2)"
      ],
      "metadata": {
        "colab": {
          "base_uri": "https://localhost:8080/"
        },
        "id": "BiPe9n8yjehf",
        "outputId": "0dea2769-d6e3-4fe8-bfdc-ff84d1859a18"
      },
      "execution_count": 53,
      "outputs": [
        {
          "output_type": "stream",
          "name": "stdout",
          "text": [
            "2\n"
          ]
        },
        {
          "output_type": "execute_result",
          "data": {
            "text/plain": [
              "0.5"
            ]
          },
          "metadata": {},
          "execution_count": 53
        }
      ]
    },
    {
      "cell_type": "markdown",
      "source": [
        "# Problem Statement:\n",
        "You work in XYZ Corporation as a Data Analyst. Your corporation has told you to\n",
        "work with the inheritance of the classes.\n",
        "# Tasks To Be Performed:\n",
        "1. Create a class named parent_Class and inside the class, initialize a global\n",
        "variable num as 10\n",
        "<br><br>a. Create another class named child_Class and this class should be\n",
        "inherited from the parent class.\n",
        "<br><br>b. Now create an object for the child_Class and with the help of\n",
        "child_Class object, display the value of ‘num’.<br><br>\n",
        "2. Create three classes named A, B and C\n",
        "<br><br>a. Inside the A class, create a constructor. Inside the constructor, initialize\n",
        "2 global variables name and age.\n",
        "<br><br>b. After initializing the global variables inside the constructor, now create a\n",
        "function named ‘details’ and that function should return the ‘name’ variable.\n",
        "<br><br>c. Inside the B class, create a constructor. Inside the constructor, initialize 2\n",
        "global variables name and id.\n",
        "<br><br>d. After initializing the global variables inside the constructor, now create a\n",
        "function named ‘details’ and that function should return the ‘name’ variable.\n",
        "<br><br>e. The C class should inherit from class A, and B. Inside the class C,\n",
        "create a constructor, and inside the constructor, call the constructor of\n",
        "class A.\n",
        "<br><br>f. Now, create a method inside the class C, as get_details, and this function\n",
        "should return the value of name.\n",
        "<br><br>g. Atlast, create an object of class C, and with the help of the object, call\n",
        "the get_details().<br><br>\n",
        "3. Create a class named ‘Sub1’, inside the class, generate a user defined\n",
        "function named ‘first’ and inside the function, pass the following statement\n",
        "in the print()- ‘This is the first function from Sub 1 class’.\n",
        "<br><br>a. Now create another class named ‘Sub2’, and inside the class, create a\n",
        "function named ‘second’, and pass the following message in the print()-\n",
        "‘This is the second function from the Sub 2 class’.\n",
        "<br><br>b. After that, create another class named ‘Super’ and inside that class,\n",
        "create a method named ‘final’, and pass the below message in the print()-\n",
        "‘This is the final method from the super class’.\n",
        "<br><br>c. Now, create an object for the Super class and call all the 3 user defined\n",
        "methods, i.e., first(), second(), and final().\n",
        "<br><br>\n",
        "4. Create a class named ‘Parent’, and inside the class, create a function\n",
        "named ‘fun1’ and pass the following message in the print()- ‘This is the\n",
        "message from the fun1’.\n",
        "<br><br>a. Now create a class named ‘Child1’ and inside the class, create a\n",
        "method named ‘fun2’ and pass the following message in the print()- ‘This is\n",
        "the message from the fun2’.\n",
        "<br><br>b. After that, create another class named ‘Child2’ and inside the class,\n",
        "create a method named ‘fun3’ and pass the following message in the\n",
        "print()- ‘This is the message from the fun3’.\n",
        "<br><br>c. Now, create an object of Child2 class and with the help of the object, call\n",
        "the ‘fun1’ method from the ‘Parent’ class.\n",
        "<br><br>\n",
        "5. Create a class named ‘Parent’, and inside the class, create a function\n",
        "named ‘fun1’ and pass the following message in the print()- ‘This is the\n",
        "message from the fun1’.\n",
        "<br><br>a. Now create a class named ‘Child’ and inside the class, create a method\n",
        "named ‘fun2’ and pass the following message in the print()- ‘This is the\n",
        "message from the fun2’.\n",
        "<br><br>b. After that, create another class named ‘Hybrid’ and inside the class,\n",
        "create a method named ‘fun3’ and pass the following message in the\n",
        "print()- ‘This is the message from the fun3’.\n",
        "<br><br>c. Now create an object of Hybrid class and with the help of the object, call\n",
        "the ‘fun1’, ‘fun2’ and ‘fun3’ methods.\n"
      ],
      "metadata": {
        "id": "ca5PL-ffkAXP"
      }
    },
    {
      "cell_type": "code",
      "source": [
        "# 1\n",
        "class parent_Class:\n",
        "  num = 10\n",
        "\n",
        "class child_Class(parent_Class):# a\n",
        "  None\n",
        "\n",
        "obj = child_Class()# b\n",
        "obj.num"
      ],
      "metadata": {
        "colab": {
          "base_uri": "https://localhost:8080/"
        },
        "id": "AptZWhiTkeUA",
        "outputId": "2fa088da-e8a7-4e98-9b14-2df2663364cc"
      },
      "execution_count": 54,
      "outputs": [
        {
          "output_type": "execute_result",
          "data": {
            "text/plain": [
              "10"
            ]
          },
          "metadata": {},
          "execution_count": 54
        }
      ]
    },
    {
      "cell_type": "code",
      "source": [
        "# 2\n",
        "class A:\n",
        "  def __init__(self):# a\n",
        "    self.name = \"class a\"\n",
        "    self.age = -1\n",
        "\n",
        "  def details(self): # b\n",
        "    return(self.name)\n",
        "\n",
        "\n",
        "class B:\n",
        "  def __init__(self):# c\n",
        "    self.name = \"class b\"\n",
        "    self.id = -5\n",
        "\n",
        "  def details(self): # d\n",
        "    return(self.name)\n",
        "\n",
        "\n",
        "class C(A,B):\n",
        "  def __init__(self):\n",
        "    A.__init__(self) # e\n",
        "\n",
        "  def get_details(self):# f\n",
        "    return self.name\n",
        "\n",
        "\n",
        "obj = C()\n",
        "\n",
        "obj.get_details()\n",
        "\n"
      ],
      "metadata": {
        "colab": {
          "base_uri": "https://localhost:8080/",
          "height": 35
        },
        "id": "9aTxPk2jlISL",
        "outputId": "e30ba541-2853-4b01-cbae-0f64d86864fa"
      },
      "execution_count": 55,
      "outputs": [
        {
          "output_type": "execute_result",
          "data": {
            "text/plain": [
              "'class a'"
            ],
            "application/vnd.google.colaboratory.intrinsic+json": {
              "type": "string"
            }
          },
          "metadata": {},
          "execution_count": 55
        }
      ]
    },
    {
      "cell_type": "code",
      "source": [
        "# 3\n",
        "class sub1:\n",
        "  def first(self):\n",
        "    print(\"This is the first function from Sub 1 class\")\n",
        "\n",
        "class sub2:# a\n",
        "  def second(self):\n",
        "    print(\"This is the second function from the Sub 2 class\")\n",
        "\n",
        "class Super(sub1,sub2):\n",
        "  def final(self):# b\n",
        "    print(\"This is the final method from the super class\")\n",
        "\n",
        "obj=Super()\n",
        "obj.final()\n",
        "obj.first()\n",
        "obj.second()"
      ],
      "metadata": {
        "colab": {
          "base_uri": "https://localhost:8080/"
        },
        "id": "4ayrDc4boGov",
        "outputId": "71882f4f-3639-4576-fdde-917ce3134b1e"
      },
      "execution_count": 56,
      "outputs": [
        {
          "output_type": "stream",
          "name": "stdout",
          "text": [
            "This is the final method from the super class\n",
            "This is the first function from Sub 1 class\n",
            "This is the second function from the Sub 2 class\n"
          ]
        }
      ]
    },
    {
      "cell_type": "code",
      "source": [
        "# 4\n",
        "class Parent:\n",
        "  def fun1(self):\n",
        "    print(\"This is the message from the fun1\")\n",
        "\n",
        "class Child1(Parent):# a\n",
        "  def fun2(self):\n",
        "    print(\"This is the message from the fun2\")\n",
        "\n",
        "class Child2(Parent):# b\n",
        "  def fun3(self):\n",
        "    print(\"This is the message from the fun3\")\n",
        "\n",
        "obj = Child1() # c\n",
        "obj.fun1()"
      ],
      "metadata": {
        "colab": {
          "base_uri": "https://localhost:8080/"
        },
        "id": "qF2b7iOJpoer",
        "outputId": "f5912f4b-7ea0-4211-86b1-e31063ecf4cd"
      },
      "execution_count": 57,
      "outputs": [
        {
          "output_type": "stream",
          "name": "stdout",
          "text": [
            "This is the message from the fun1\n"
          ]
        }
      ]
    },
    {
      "cell_type": "code",
      "source": [
        "# 5\n",
        "class Parent:\n",
        "  def fun1(self):\n",
        "    print(\"This is the message from the fun1\")\n",
        "\n",
        "class Child(Parent):# a\n",
        "  def fun2(self):\n",
        "    print(\"This is the message from the fun2\")\n",
        "\n",
        "class Hybrid(Child):# b\n",
        "  def fun3(self):\n",
        "    print(\"This is the message from the fun3\")\n",
        "\n",
        "obj = Hybrid()\n",
        "obj.fun1()\n",
        "obj.fun2()\n",
        "obj.fun3()"
      ],
      "metadata": {
        "colab": {
          "base_uri": "https://localhost:8080/"
        },
        "id": "tpCuW_jFqm1Q",
        "outputId": "46ac1657-284f-403b-ed2b-3a839f0dbdbd"
      },
      "execution_count": 58,
      "outputs": [
        {
          "output_type": "stream",
          "name": "stdout",
          "text": [
            "This is the message from the fun1\n",
            "This is the message from the fun2\n",
            "This is the message from the fun3\n"
          ]
        }
      ]
    },
    {
      "cell_type": "markdown",
      "source": [
        "# Problem Statement:\n",
        "Consider yourself to be Sam who is a software engineer. He has been asked to\n",
        "build an employee management app. You have to use the OOPs concept to build\n",
        "a few classes as outlined in the steps below.\n",
        "# Tasks To Be Performed:\n",
        "1. Create a class named Employee, with a constructor ‘__init__’ method that\n",
        "accepts name and salary as parameters and set properties named name\n",
        "and salary.<br><br>\n",
        "2. Define __str__ method in Employee class so that when someone tries to\n",
        "print the object the string Name: employee_name, Salary:\n",
        "employee_salary is printed with the actual employee name and salary.\n",
        "<br><br>\n",
        "3. Create another class named Calculator, with methods to add, subtract,\n",
        "multiply and divide two numbers.\n",
        "<br><br>\n",
        "4. These methods take two numbers as parameters.\n",
        "<br><br>\n",
        "5. These methods will be called by a method named execute command.\n",
        "<br><br>\n",
        "6. Execute command takes in 3 parameters command which is string that can\n",
        "be either ‘add’, ‘sub’, ‘mul’, ‘div’, and two numbers and it will call the\n",
        "appropriate method based on command parameter.\n"
      ],
      "metadata": {
        "id": "0XgCXuZEreMZ"
      }
    },
    {
      "cell_type": "code",
      "source": [
        "# 1\n",
        "class Employee:\n",
        "  def __init__(self,name,salary):\n",
        "    self.__name = name\n",
        "    self.__salary = salary\n",
        "\n",
        "  def __str__(self):# 2\n",
        "    print(f\"Employee Name: {self.__name}\")\n",
        "    print(f\"Employee Salary: {self.__salary}\")\n",
        "\n",
        "emp1 = Employee(\"emp1\",50000)\n",
        "emp1.__str__()"
      ],
      "metadata": {
        "colab": {
          "base_uri": "https://localhost:8080/"
        },
        "id": "-tUILe0nrp6i",
        "outputId": "79ea055d-766d-45e8-d1ee-aa61657c3f02"
      },
      "execution_count": 59,
      "outputs": [
        {
          "output_type": "stream",
          "name": "stdout",
          "text": [
            "Employee Name: emp1\n",
            "Employee Salary: 50000\n"
          ]
        }
      ]
    },
    {
      "cell_type": "code",
      "source": [
        "# 3\n",
        "class Calculator:\n",
        "\n",
        "  def __add(self,a,b):# 4\n",
        "    return a+b\n",
        "  def __sub(self,a,b):\n",
        "    return a-b\n",
        "  def __multi(self,a,b):\n",
        "    return a*b\n",
        "  def __divide(self,a,b):\n",
        "    return a/b\n",
        "\n",
        "  def excute(self,a,b,opp):# 5\n",
        "    if opp == 'add':\n",
        "      return add(a,b)\n",
        "    elif opp == 'sub':\n",
        "      return sub(a,b)\n",
        "    elif opp == 'mul':\n",
        "      return multi(a,b)\n",
        "    elif opp == 'div':\n",
        "      return divide(a,b)\n",
        "    else:\n",
        "      return \"Enter the proper operations\"\n",
        "\n",
        "set1 = Calculator()\n",
        "# 6\n",
        "print(set1.excute(1,2,'add'))\n",
        "print(set1.excute(1,2,'sub'))\n",
        "print(set1.excute(1,2,'mul'))\n",
        "print(set1.excute(1,2,'div'))\n",
        "print(set1.excute(1,2,'multiply'))\n",
        "\n"
      ],
      "metadata": {
        "colab": {
          "base_uri": "https://localhost:8080/"
        },
        "id": "MV2C8ThJubHg",
        "outputId": "b86b3a1d-c51f-433e-a6fc-023cc6655207"
      },
      "execution_count": 60,
      "outputs": [
        {
          "output_type": "stream",
          "name": "stdout",
          "text": [
            "3\n",
            "-1\n",
            "2\n",
            "0.5\n",
            "Enter the proper operations\n"
          ]
        }
      ]
    }
  ]
}