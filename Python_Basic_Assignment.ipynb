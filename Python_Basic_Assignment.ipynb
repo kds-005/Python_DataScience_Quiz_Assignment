{
  "nbformat": 4,
  "nbformat_minor": 0,
  "metadata": {
    "colab": {
      "provenance": []
    },
    "kernelspec": {
      "name": "python3",
      "display_name": "Python 3"
    },
    "language_info": {
      "name": "python"
    }
  },
  "cells": [
    {
      "cell_type": "markdown",
      "source": [
        "# Problem Statement:<br>\n",
        "You work in XYZ Corporation as a Data Analyst. Your company has told you to\n",
        "work with the if-else condition.<br><br>\n",
        "# Tasks To Be Performed:\n",
        "1. Input the values of a and b as 10 and 20 respectively. Now check if a is\n",
        "greater or b is greater using if condition. Think about all the edge cases,\n",
        "and print the statements accordingly"
      ],
      "metadata": {
        "id": "ccl5VednJmJm"
      }
    },
    {
      "cell_type": "code",
      "execution_count": 1,
      "metadata": {
        "colab": {
          "base_uri": "https://localhost:8080/"
        },
        "id": "w2E6ww-VI9cL",
        "outputId": "9ea562e8-87e2-430b-a3e6-d63a3d61fade"
      },
      "outputs": [
        {
          "output_type": "stream",
          "name": "stdout",
          "text": [
            "a is not larger than b\n"
          ]
        }
      ],
      "source": [
        "a,b=10,20\n",
        "\n",
        "if(a>b):\n",
        "  print(\"a is larger than b\")\n",
        "else:\n",
        "  print(\"a is not larger than b\")"
      ]
    },
    {
      "cell_type": "markdown",
      "source": [
        "# Problem Statement:<br>\n",
        "You work in XYZ Corporation as a Data Analyst. Your company has told you to\n",
        "work with the if-else condition.<br>\n",
        "# Tasks To Be Performed:<br>\n",
        "1. Take three user inputs and print the greatest number from those inputs\n",
        "using if-else condition. Edge cases, if any, should also be handled"
      ],
      "metadata": {
        "id": "wCAMR7FeKV4T"
      }
    },
    {
      "cell_type": "code",
      "source": [
        "num_1 = input('Enter the 1st number ')\n",
        "num_2 = input('Enter the 2nd number ')\n",
        "num_3 = input('Enter the 3rd number ')\n",
        "\n",
        "if(num_1 > num_2):\n",
        "  if(num_1 > num_3):\n",
        "    big = num_1\n",
        "  else:\n",
        "    big = num_3\n",
        "else:\n",
        "  if(num_2 > num_3):\n",
        "    big = num_2\n",
        "  else:\n",
        "    big = num_3\n",
        "\n",
        "\n",
        "print(f\"The Largest number is {big}\")"
      ],
      "metadata": {
        "colab": {
          "base_uri": "https://localhost:8080/"
        },
        "id": "bSezH7o9KRab",
        "outputId": "d6984aad-6869-44d3-e5d3-f36829bfe6ab"
      },
      "execution_count": 8,
      "outputs": [
        {
          "output_type": "stream",
          "name": "stdout",
          "text": [
            "Enter the 1st number 5\n",
            "Enter the 2nd number 3\n",
            "Enter the 3rd number 7\n",
            "The Largest number is 7\n"
          ]
        }
      ]
    },
    {
      "cell_type": "markdown",
      "source": [
        "# Problem Statement:\n",
        "You work in XYZ Corporation as a Data Analyst. Your company has told you to\n",
        "work with the looping statements.<br><br>\n",
        "# Tasks To Be Performed:\n",
        "1. Print the numbers from 1 to 10 using while loop"
      ],
      "metadata": {
        "id": "mpoBHZP4MS9i"
      }
    },
    {
      "cell_type": "code",
      "source": [
        "n = 10\n",
        "for i in range(1,n+1):\n",
        "  print(i)"
      ],
      "metadata": {
        "colab": {
          "base_uri": "https://localhost:8080/"
        },
        "id": "pZLx_qz4MD3G",
        "outputId": "5ebc645f-20ff-427a-8256-7a2ffcb7cc1a"
      },
      "execution_count": 11,
      "outputs": [
        {
          "output_type": "stream",
          "name": "stdout",
          "text": [
            "1\n",
            "2\n",
            "3\n",
            "4\n",
            "5\n",
            "6\n",
            "7\n",
            "8\n",
            "9\n",
            "10\n"
          ]
        }
      ]
    },
    {
      "cell_type": "markdown",
      "source": [
        "# Problem Statement:\n",
        "You work in XYZ Corporation as a Data Analyst. Your company has told you to\n",
        "work with the looping statements.\n",
        "#Tasks To Be Performed:\n",
        "1. Create a list that has 10, 23, 4, 26, 4, 75, 24, 54 values and with the help\n",
        "of while loop fetch the even numbers and print the numbe"
      ],
      "metadata": {
        "id": "GQKq7NrOMtxh"
      }
    },
    {
      "cell_type": "code",
      "source": [
        "def is_even(num):\n",
        "  if(num%2 == 0):\n",
        "    return True\n",
        "  else:\n",
        "    return False\n",
        "\n",
        "ls = [10, 23, 4, 26, 4, 75, 24, 54]\n",
        "i = 0\n",
        "while(i<len(ls)):\n",
        "  if(is_even(ls[i])):\n",
        "    print(ls[i])\n",
        "  i+=1"
      ],
      "metadata": {
        "colab": {
          "base_uri": "https://localhost:8080/"
        },
        "id": "LWxzEd6WMxJq",
        "outputId": "3ccd3029-cc6a-4e31-f7f4-af2058b01064"
      },
      "execution_count": 1,
      "outputs": [
        {
          "output_type": "stream",
          "name": "stdout",
          "text": [
            "10\n",
            "4\n",
            "26\n",
            "4\n",
            "24\n",
            "54\n"
          ]
        }
      ]
    },
    {
      "cell_type": "markdown",
      "source": [
        "# Problem Statement:\n",
        "You work in XYZ Corporation as a Data Analyst. Your company has told you to\n",
        "work with the looping statements.\n",
        "# Tasks To Be Performed:\n",
        "1. Create an array that has user defined inputs and with the help of for loop,\n",
        "fetch all the prime numbers and print the numbers."
      ],
      "metadata": {
        "id": "iabBvYXRNvW6"
      }
    },
    {
      "cell_type": "code",
      "source": [
        "import math\n",
        "def is_prime(num):\n",
        "  count = 0\n",
        "  for i in range(1,num):\n",
        "    if(num%i == 0):\n",
        "      count+=1\n",
        "  if(count == 1):\n",
        "    return True\n",
        "  else:\n",
        "    return False\n",
        "\n",
        "ls = []\n",
        "n = int(input(\"Enter the size of the array  \"))\n",
        "for i in range(n):\n",
        "  ls.append(int(input(f'Enter the {i+1}th Number ')))\n",
        "\n",
        "for i in range(n):\n",
        "  if(is_prime(ls[i])):\n",
        "    print(ls[i])"
      ],
      "metadata": {
        "colab": {
          "base_uri": "https://localhost:8080/"
        },
        "id": "0pth73C8N0xW",
        "outputId": "2f8badba-f970-4f5d-9ab7-9952bbe74960"
      },
      "execution_count": 13,
      "outputs": [
        {
          "output_type": "stream",
          "name": "stdout",
          "text": [
            "Enter the size of the array  5\n",
            "Enter the 1th Number 2\n",
            "Enter the 2th Number 3\n",
            "Enter the 3th Number 5\n",
            "Enter the 4th Number 7\n",
            "Enter the 5th Number 11\n",
            "2\n",
            "3\n",
            "5\n",
            "7\n",
            "11\n"
          ]
        }
      ]
    },
    {
      "cell_type": "markdown",
      "source": [
        "#Problem Statement:\n",
        "Consider yourself to be Sam who is a data scientist. He has been invited as a\n",
        "guest lecturer at a college to take an introductory session on Python.\n",
        "#Tasks To Be Performed:\n",
        "1. Create a list containing squares of numbers from 1 to 10 (HINT: use List\n",
        "Comprehension).\n",
        "2. Write a function to check if the year number is a leap year.\n",
        "3. Write a function to take an array and return another array that contains the\n",
        "members of the first array that are even.\n",
        "4. Write a function that takes 2 arrays and prints the members of the first\n",
        "array that are present in the second array. (HINT: use Membership\n",
        "Comprehension)\n"
      ],
      "metadata": {
        "id": "clU0icy1RHU4"
      }
    },
    {
      "cell_type": "code",
      "source": [
        "#1\n",
        "n=10\n",
        "[i**2 for i in range(1,n+1)]"
      ],
      "metadata": {
        "colab": {
          "base_uri": "https://localhost:8080/"
        },
        "id": "b-4wDiSlROFB",
        "outputId": "9ec8c8c2-3583-418d-b598-bd1573957be4"
      },
      "execution_count": 15,
      "outputs": [
        {
          "output_type": "execute_result",
          "data": {
            "text/plain": [
              "[1, 4, 9, 16, 25, 36, 49, 64, 81, 100]"
            ]
          },
          "metadata": {},
          "execution_count": 15
        }
      ]
    },
    {
      "cell_type": "code",
      "source": [
        "#2\n",
        "def is_leap(year):\n",
        "  if(year%4 == 0):\n",
        "    if(year%100 == 0):\n",
        "      if(year%400 == 0):\n",
        "        return True\n",
        "      else:\n",
        "        return False\n",
        "    else:\n",
        "      return True\n",
        "  else:\n",
        "    return False\n",
        "\n",
        "is_leap(2014)"
      ],
      "metadata": {
        "colab": {
          "base_uri": "https://localhost:8080/"
        },
        "id": "AtiOQoksRkyR",
        "outputId": "4b65bcdb-080e-4d13-9d77-423fcfed9eda"
      },
      "execution_count": 23,
      "outputs": [
        {
          "output_type": "execute_result",
          "data": {
            "text/plain": [
              "False"
            ]
          },
          "metadata": {},
          "execution_count": 23
        }
      ]
    },
    {
      "cell_type": "code",
      "source": [
        "def only_even(arr):\n",
        "  return [i for i in arr if(i%2 == 0)]\n",
        "\n",
        "only_even([1,2,3,4,5,68,9,0,0])"
      ],
      "metadata": {
        "colab": {
          "base_uri": "https://localhost:8080/"
        },
        "id": "PrF7dC7zUQWk",
        "outputId": "e53ee403-5ec4-4733-d5be-ba176bafafbc"
      },
      "execution_count": 28,
      "outputs": [
        {
          "output_type": "execute_result",
          "data": {
            "text/plain": [
              "[2, 4, 68, 0, 0]"
            ]
          },
          "metadata": {},
          "execution_count": 28
        }
      ]
    },
    {
      "cell_type": "code",
      "source": [
        "def intersect(arr1, arr2):\n",
        "  return [arr1[i] for i in range(len(arr1)) if arr1[i] in arr2]\n",
        "\n",
        "intersect([1,2,3,4,5],[4,5,6,8,8,9])"
      ],
      "metadata": {
        "colab": {
          "base_uri": "https://localhost:8080/"
        },
        "id": "u38g5B78VyDO",
        "outputId": "9097fee0-721e-4b39-c81e-a1a99fd93dcf"
      },
      "execution_count": 30,
      "outputs": [
        {
          "output_type": "execute_result",
          "data": {
            "text/plain": [
              "[4, 5]"
            ]
          },
          "metadata": {},
          "execution_count": 30
        }
      ]
    },
    {
      "cell_type": "markdown",
      "source": [
        "# Problem Statement:\n",
        "Consider yourself to be Sam who is a data scientist. He has been invited as a\n",
        "guest lecturer at a college to take an introductory session on Python.\n",
        "# Tasks To Be Performed:\n",
        "1. Create 1st tuple with values -> (10, 20, 30), 2nd tuple with values -> (40, 50, 60):\n",
        "<br>a. Concatenate the two tuples and store it in “t_combine”\n",
        "<br>b. Repeat the elements of “t_combine” 3 times\n",
        "<br>c. Access the 3rd element from “t_combine”\n",
        "<br>d. Access the first three elements from “t_combine”\n",
        "<br>e. Access the last three elements from “t_combine”<br><br>\n",
        "2. Create a list ‘my_list’ with these elements:\n",
        "<br>a. First element is a tuple with values 1, 2, 3\n",
        "<br>b. Second element is a tuple with values “a”, “b”, “c”\n",
        "<br>c. Third element is a tuple with values True, False<br><br>\n",
        "3. Append a new tuple – (1, ‘a’, True) to ‘my_list’:\n",
        "<br>a. Append a new list – *“sparta”, 123+ to my_list\n",
        "<br><br>\n",
        "4. Create a dictionary ‘fruit’ where:\n",
        "<br>a. The first key is ‘Fruit’ and the values are (“Apple”, “Banana”, “Mango”,\n",
        "“Guava”)\n",
        "<br>b. The second key is ‘Cost’ and the values are (85, 54, 120, 70)\n",
        "<br>c. Extract all the keys from ‘fruit’\n",
        "<br>d. Extract all the values from ‘fruit’\n",
        "<br><br>\n",
        "5. Create a set named ‘my_set’ with values (1, 1, “a”, “a”, True, True) and\n",
        "print the result.\n"
      ],
      "metadata": {
        "id": "I-YTvGTbcDAg"
      }
    },
    {
      "cell_type": "code",
      "source": [
        "# 1\n",
        "tup1 = (10,20,30)\n",
        "tup2 = (40,50,60)\n",
        "\n",
        "t_combine = tup1 + tup2 # a\n",
        "\n",
        "print(t_combine*3) # b\n",
        "\n",
        "print(f\"3rd Element {t_combine[2]}\") # c\n",
        "\n",
        "print(f\"First three Elements {t_combine[:3]}\")\n",
        "\n",
        "print(f\"Last three Elements {t_combine[-3:]}\")"
      ],
      "metadata": {
        "colab": {
          "base_uri": "https://localhost:8080/"
        },
        "id": "V1B2g1waciIB",
        "outputId": "6f8a2b28-81eb-4555-8bc8-da57d8786286"
      },
      "execution_count": 37,
      "outputs": [
        {
          "output_type": "stream",
          "name": "stdout",
          "text": [
            "(10, 20, 30, 40, 50, 60, 10, 20, 30, 40, 50, 60, 10, 20, 30, 40, 50, 60)\n",
            "3rd Element 30\n",
            "First three Elements (10, 20, 30)\n",
            "Last three Elements (40, 50, 60)\n"
          ]
        }
      ]
    },
    {
      "cell_type": "code",
      "source": [
        "# 2\n",
        "my_list = []\n",
        "\n",
        "my_list.append((1,2,3))# a\n",
        "\n",
        "my_list.append(('a','b','c'))# b\n",
        "\n",
        "my_list.append((True,False))# c\n",
        "\n",
        "my_list"
      ],
      "metadata": {
        "colab": {
          "base_uri": "https://localhost:8080/"
        },
        "id": "6E81LKYQfRoy",
        "outputId": "7247c7f3-450b-4104-8b6d-ac09587ec908"
      },
      "execution_count": 42,
      "outputs": [
        {
          "output_type": "execute_result",
          "data": {
            "text/plain": [
              "[(1, 2, 3), ('a', 'b', 'c'), (True, False)]"
            ]
          },
          "metadata": {},
          "execution_count": 42
        }
      ]
    },
    {
      "cell_type": "code",
      "source": [
        "# 3\n",
        "my_list.append((1,'a',True))\n",
        "\n",
        "my_list.append(['sparta', 123])\n",
        "\n",
        "my_list"
      ],
      "metadata": {
        "colab": {
          "base_uri": "https://localhost:8080/"
        },
        "id": "MwAvVKF6gTxf",
        "outputId": "f1e5d6ea-f622-462a-94e0-3c1baf2b9f89"
      },
      "execution_count": 43,
      "outputs": [
        {
          "output_type": "execute_result",
          "data": {
            "text/plain": [
              "[(1, 2, 3), ('a', 'b', 'c'), (True, False), (1, 'a', True), ['sparta', 123]]"
            ]
          },
          "metadata": {},
          "execution_count": 43
        }
      ]
    },
    {
      "cell_type": "code",
      "source": [
        "# 4\n",
        "fruit = {}\n",
        "\n",
        "fruit['Fruit'] = ('Apple','Banana','Mango','Guava')# a\n",
        "\n",
        "fruit['Cost'] = (85,54,120,70)# b\n",
        "\n",
        "print(fruit.keys())# c\n",
        "\n",
        "print(fruit.values())# d"
      ],
      "metadata": {
        "colab": {
          "base_uri": "https://localhost:8080/"
        },
        "id": "YefAbYxmhI2S",
        "outputId": "e0ac5598-b970-4b07-accf-89d4a2503d35"
      },
      "execution_count": 45,
      "outputs": [
        {
          "output_type": "stream",
          "name": "stdout",
          "text": [
            "dict_keys(['Fruit', 'Cost'])\n",
            "dict_values([('Apple', 'Banana', 'Mango', 'Guava'), (85, 54, 120, 70)])\n"
          ]
        }
      ]
    },
    {
      "cell_type": "code",
      "source": [
        "#5\n",
        "my_set = {1,1,'a','a',True,True}\n",
        "my_set"
      ],
      "metadata": {
        "colab": {
          "base_uri": "https://localhost:8080/"
        },
        "id": "cKk00I_Ph0iu",
        "outputId": "e4ab837a-8e8d-4530-cdc9-cd94fd955a86"
      },
      "execution_count": 49,
      "outputs": [
        {
          "output_type": "execute_result",
          "data": {
            "text/plain": [
              "{1, 'a'}"
            ]
          },
          "metadata": {},
          "execution_count": 49
        }
      ]
    }
  ]
}