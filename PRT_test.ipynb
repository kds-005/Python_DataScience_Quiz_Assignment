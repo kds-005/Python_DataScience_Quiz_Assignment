{
  "nbformat": 4,
  "nbformat_minor": 0,
  "metadata": {
    "colab": {
      "provenance": []
    },
    "kernelspec": {
      "name": "python3",
      "display_name": "Python 3"
    },
    "language_info": {
      "name": "python"
    }
  },
  "cells": [
    {
      "cell_type": "code",
      "execution_count": 143,
      "metadata": {
        "id": "o27tHLnpcAAi"
      },
      "outputs": [],
      "source": [
        "import numpy as np\n",
        "import pandas as pd\n",
        "import matplotlib.pyplot as plt\n",
        "import seaborn as sns\n",
        "import warnings\n",
        "warnings.filterwarnings('ignore')\n",
        "pd.set_option('display.max_columns', None)\n",
        "pd.set_option('display.max_rows', 10)"
      ]
    },
    {
      "cell_type": "code",
      "source": [
        "df = pd.read_csv(\"/content/CreditWorthiness - Sheet1.csv\")\n",
        "df.head()"
      ],
      "metadata": {
        "colab": {
          "base_uri": "https://localhost:8080/",
          "height": 521
        },
        "id": "biQMQ2jHhFwp",
        "outputId": "797251ab-9d34-4148-e839-d46b40cf4c5e"
      },
      "execution_count": 144,
      "outputs": [
        {
          "output_type": "execute_result",
          "data": {
            "text/plain": [
              "                  Cbal  Cdur                   Chist         Cpur    Camt  \\\n",
              "0      0 <= Rs. < 2000     9    all settled till now     Business   13790   \n",
              "1      0 <= Rs. < 2000    15   dues not paid earlier  electronics   15250   \n",
              "2      0 <= Rs. < 2000    36  none taken/all settled     Business   19410   \n",
              "3      0 <= Rs. < 2000    48  none taken/all settled     Business  144090   \n",
              "4  no checking account    24    all settled till now  electronics   31690   \n",
              "\n",
              "                 Sbal               Edur  InRate  \\\n",
              "0          Rs. < 1000       1 to 4 years       2   \n",
              "1  no savings account  more than 7 years       4   \n",
              "2          Rs. < 1000  more than 7 years       4   \n",
              "3          Rs. < 1000       1 to 4 years       2   \n",
              "4          Rs. < 1000   less than 1 year       4   \n",
              "\n",
              "                                       MSG        Oparties               Rdur  \\\n",
              "0                  married or widowed male          no one   less than a year   \n",
              "1                              single male  yes, guarantor  more than 3 years   \n",
              "2                              single male          no one  more than 3 years   \n",
              "3                              single male          no one       1 to 2 years   \n",
              "4  divorced or separated or married female          no one  more than 3 years   \n",
              "\n",
              "                              Prop  age inPlans Htype  NumCred  \\\n",
              "0                      real estate   27    bank   own        1   \n",
              "1                      real estate   50    none   own        2   \n",
              "2                          Unknown   61    none  free        1   \n",
              "3                  Other cars etc.   25    none   own        1   \n",
              "4  life insurance/building society   26    none   own        1   \n",
              "\n",
              "                                             JobType  Ndepend telephone  \\\n",
              "0                    employee with official position        1       yes   \n",
              "1                    employee with official position        1       yes   \n",
              "2  employed either in management, self or in high...        1       yes   \n",
              "3                    employee with official position        1       yes   \n",
              "4                    employee with official position        1       yes   \n",
              "\n",
              "  foreign creditScore  \n",
              "0      no        good  \n",
              "1      no        good  \n",
              "2      no         bad  \n",
              "3      no         bad  \n",
              "4      no        good  "
            ],
            "text/html": [
              "\n",
              "  <div id=\"df-d7ac8e34-53f4-4da5-80c0-61ebd95f626a\" class=\"colab-df-container\">\n",
              "    <div>\n",
              "<style scoped>\n",
              "    .dataframe tbody tr th:only-of-type {\n",
              "        vertical-align: middle;\n",
              "    }\n",
              "\n",
              "    .dataframe tbody tr th {\n",
              "        vertical-align: top;\n",
              "    }\n",
              "\n",
              "    .dataframe thead th {\n",
              "        text-align: right;\n",
              "    }\n",
              "</style>\n",
              "<table border=\"1\" class=\"dataframe\">\n",
              "  <thead>\n",
              "    <tr style=\"text-align: right;\">\n",
              "      <th></th>\n",
              "      <th>Cbal</th>\n",
              "      <th>Cdur</th>\n",
              "      <th>Chist</th>\n",
              "      <th>Cpur</th>\n",
              "      <th>Camt</th>\n",
              "      <th>Sbal</th>\n",
              "      <th>Edur</th>\n",
              "      <th>InRate</th>\n",
              "      <th>MSG</th>\n",
              "      <th>Oparties</th>\n",
              "      <th>Rdur</th>\n",
              "      <th>Prop</th>\n",
              "      <th>age</th>\n",
              "      <th>inPlans</th>\n",
              "      <th>Htype</th>\n",
              "      <th>NumCred</th>\n",
              "      <th>JobType</th>\n",
              "      <th>Ndepend</th>\n",
              "      <th>telephone</th>\n",
              "      <th>foreign</th>\n",
              "      <th>creditScore</th>\n",
              "    </tr>\n",
              "  </thead>\n",
              "  <tbody>\n",
              "    <tr>\n",
              "      <th>0</th>\n",
              "      <td>0 &lt;= Rs. &lt; 2000</td>\n",
              "      <td>9</td>\n",
              "      <td>all settled till now</td>\n",
              "      <td>Business</td>\n",
              "      <td>13790</td>\n",
              "      <td>Rs. &lt; 1000</td>\n",
              "      <td>1 to 4 years</td>\n",
              "      <td>2</td>\n",
              "      <td>married or widowed male</td>\n",
              "      <td>no one</td>\n",
              "      <td>less than a year</td>\n",
              "      <td>real estate</td>\n",
              "      <td>27</td>\n",
              "      <td>bank</td>\n",
              "      <td>own</td>\n",
              "      <td>1</td>\n",
              "      <td>employee with official position</td>\n",
              "      <td>1</td>\n",
              "      <td>yes</td>\n",
              "      <td>no</td>\n",
              "      <td>good</td>\n",
              "    </tr>\n",
              "    <tr>\n",
              "      <th>1</th>\n",
              "      <td>0 &lt;= Rs. &lt; 2000</td>\n",
              "      <td>15</td>\n",
              "      <td>dues not paid earlier</td>\n",
              "      <td>electronics</td>\n",
              "      <td>15250</td>\n",
              "      <td>no savings account</td>\n",
              "      <td>more than 7 years</td>\n",
              "      <td>4</td>\n",
              "      <td>single male</td>\n",
              "      <td>yes, guarantor</td>\n",
              "      <td>more than 3 years</td>\n",
              "      <td>real estate</td>\n",
              "      <td>50</td>\n",
              "      <td>none</td>\n",
              "      <td>own</td>\n",
              "      <td>2</td>\n",
              "      <td>employee with official position</td>\n",
              "      <td>1</td>\n",
              "      <td>yes</td>\n",
              "      <td>no</td>\n",
              "      <td>good</td>\n",
              "    </tr>\n",
              "    <tr>\n",
              "      <th>2</th>\n",
              "      <td>0 &lt;= Rs. &lt; 2000</td>\n",
              "      <td>36</td>\n",
              "      <td>none taken/all settled</td>\n",
              "      <td>Business</td>\n",
              "      <td>19410</td>\n",
              "      <td>Rs. &lt; 1000</td>\n",
              "      <td>more than 7 years</td>\n",
              "      <td>4</td>\n",
              "      <td>single male</td>\n",
              "      <td>no one</td>\n",
              "      <td>more than 3 years</td>\n",
              "      <td>Unknown</td>\n",
              "      <td>61</td>\n",
              "      <td>none</td>\n",
              "      <td>free</td>\n",
              "      <td>1</td>\n",
              "      <td>employed either in management, self or in high...</td>\n",
              "      <td>1</td>\n",
              "      <td>yes</td>\n",
              "      <td>no</td>\n",
              "      <td>bad</td>\n",
              "    </tr>\n",
              "    <tr>\n",
              "      <th>3</th>\n",
              "      <td>0 &lt;= Rs. &lt; 2000</td>\n",
              "      <td>48</td>\n",
              "      <td>none taken/all settled</td>\n",
              "      <td>Business</td>\n",
              "      <td>144090</td>\n",
              "      <td>Rs. &lt; 1000</td>\n",
              "      <td>1 to 4 years</td>\n",
              "      <td>2</td>\n",
              "      <td>single male</td>\n",
              "      <td>no one</td>\n",
              "      <td>1 to 2 years</td>\n",
              "      <td>Other cars etc.</td>\n",
              "      <td>25</td>\n",
              "      <td>none</td>\n",
              "      <td>own</td>\n",
              "      <td>1</td>\n",
              "      <td>employee with official position</td>\n",
              "      <td>1</td>\n",
              "      <td>yes</td>\n",
              "      <td>no</td>\n",
              "      <td>bad</td>\n",
              "    </tr>\n",
              "    <tr>\n",
              "      <th>4</th>\n",
              "      <td>no checking account</td>\n",
              "      <td>24</td>\n",
              "      <td>all settled till now</td>\n",
              "      <td>electronics</td>\n",
              "      <td>31690</td>\n",
              "      <td>Rs. &lt; 1000</td>\n",
              "      <td>less than 1 year</td>\n",
              "      <td>4</td>\n",
              "      <td>divorced or separated or married female</td>\n",
              "      <td>no one</td>\n",
              "      <td>more than 3 years</td>\n",
              "      <td>life insurance/building society</td>\n",
              "      <td>26</td>\n",
              "      <td>none</td>\n",
              "      <td>own</td>\n",
              "      <td>1</td>\n",
              "      <td>employee with official position</td>\n",
              "      <td>1</td>\n",
              "      <td>yes</td>\n",
              "      <td>no</td>\n",
              "      <td>good</td>\n",
              "    </tr>\n",
              "  </tbody>\n",
              "</table>\n",
              "</div>\n",
              "    <div class=\"colab-df-buttons\">\n",
              "\n",
              "  <div class=\"colab-df-container\">\n",
              "    <button class=\"colab-df-convert\" onclick=\"convertToInteractive('df-d7ac8e34-53f4-4da5-80c0-61ebd95f626a')\"\n",
              "            title=\"Convert this dataframe to an interactive table.\"\n",
              "            style=\"display:none;\">\n",
              "\n",
              "  <svg xmlns=\"http://www.w3.org/2000/svg\" height=\"24px\" viewBox=\"0 -960 960 960\">\n",
              "    <path d=\"M120-120v-720h720v720H120Zm60-500h600v-160H180v160Zm220 220h160v-160H400v160Zm0 220h160v-160H400v160ZM180-400h160v-160H180v160Zm440 0h160v-160H620v160ZM180-180h160v-160H180v160Zm440 0h160v-160H620v160Z\"/>\n",
              "  </svg>\n",
              "    </button>\n",
              "\n",
              "  <style>\n",
              "    .colab-df-container {\n",
              "      display:flex;\n",
              "      gap: 12px;\n",
              "    }\n",
              "\n",
              "    .colab-df-convert {\n",
              "      background-color: #E8F0FE;\n",
              "      border: none;\n",
              "      border-radius: 50%;\n",
              "      cursor: pointer;\n",
              "      display: none;\n",
              "      fill: #1967D2;\n",
              "      height: 32px;\n",
              "      padding: 0 0 0 0;\n",
              "      width: 32px;\n",
              "    }\n",
              "\n",
              "    .colab-df-convert:hover {\n",
              "      background-color: #E2EBFA;\n",
              "      box-shadow: 0px 1px 2px rgba(60, 64, 67, 0.3), 0px 1px 3px 1px rgba(60, 64, 67, 0.15);\n",
              "      fill: #174EA6;\n",
              "    }\n",
              "\n",
              "    .colab-df-buttons div {\n",
              "      margin-bottom: 4px;\n",
              "    }\n",
              "\n",
              "    [theme=dark] .colab-df-convert {\n",
              "      background-color: #3B4455;\n",
              "      fill: #D2E3FC;\n",
              "    }\n",
              "\n",
              "    [theme=dark] .colab-df-convert:hover {\n",
              "      background-color: #434B5C;\n",
              "      box-shadow: 0px 1px 3px 1px rgba(0, 0, 0, 0.15);\n",
              "      filter: drop-shadow(0px 1px 2px rgba(0, 0, 0, 0.3));\n",
              "      fill: #FFFFFF;\n",
              "    }\n",
              "  </style>\n",
              "\n",
              "    <script>\n",
              "      const buttonEl =\n",
              "        document.querySelector('#df-d7ac8e34-53f4-4da5-80c0-61ebd95f626a button.colab-df-convert');\n",
              "      buttonEl.style.display =\n",
              "        google.colab.kernel.accessAllowed ? 'block' : 'none';\n",
              "\n",
              "      async function convertToInteractive(key) {\n",
              "        const element = document.querySelector('#df-d7ac8e34-53f4-4da5-80c0-61ebd95f626a');\n",
              "        const dataTable =\n",
              "          await google.colab.kernel.invokeFunction('convertToInteractive',\n",
              "                                                    [key], {});\n",
              "        if (!dataTable) return;\n",
              "\n",
              "        const docLinkHtml = 'Like what you see? Visit the ' +\n",
              "          '<a target=\"_blank\" href=https://colab.research.google.com/notebooks/data_table.ipynb>data table notebook</a>'\n",
              "          + ' to learn more about interactive tables.';\n",
              "        element.innerHTML = '';\n",
              "        dataTable['output_type'] = 'display_data';\n",
              "        await google.colab.output.renderOutput(dataTable, element);\n",
              "        const docLink = document.createElement('div');\n",
              "        docLink.innerHTML = docLinkHtml;\n",
              "        element.appendChild(docLink);\n",
              "      }\n",
              "    </script>\n",
              "  </div>\n",
              "\n",
              "\n",
              "<div id=\"df-93759c41-e81e-4588-84ef-38e496c60dea\">\n",
              "  <button class=\"colab-df-quickchart\" onclick=\"quickchart('df-93759c41-e81e-4588-84ef-38e496c60dea')\"\n",
              "            title=\"Suggest charts.\"\n",
              "            style=\"display:none;\">\n",
              "\n",
              "<svg xmlns=\"http://www.w3.org/2000/svg\" height=\"24px\"viewBox=\"0 0 24 24\"\n",
              "     width=\"24px\">\n",
              "    <g>\n",
              "        <path d=\"M19 3H5c-1.1 0-2 .9-2 2v14c0 1.1.9 2 2 2h14c1.1 0 2-.9 2-2V5c0-1.1-.9-2-2-2zM9 17H7v-7h2v7zm4 0h-2V7h2v10zm4 0h-2v-4h2v4z\"/>\n",
              "    </g>\n",
              "</svg>\n",
              "  </button>\n",
              "\n",
              "<style>\n",
              "  .colab-df-quickchart {\n",
              "    background-color: #E8F0FE;\n",
              "    border: none;\n",
              "    border-radius: 50%;\n",
              "    cursor: pointer;\n",
              "    display: none;\n",
              "    fill: #1967D2;\n",
              "    height: 32px;\n",
              "    padding: 0 0 0 0;\n",
              "    width: 32px;\n",
              "  }\n",
              "\n",
              "  .colab-df-quickchart:hover {\n",
              "    background-color: #E2EBFA;\n",
              "    box-shadow: 0px 1px 2px rgba(60, 64, 67, 0.3), 0px 1px 3px 1px rgba(60, 64, 67, 0.15);\n",
              "    fill: #174EA6;\n",
              "  }\n",
              "\n",
              "  [theme=dark] .colab-df-quickchart {\n",
              "    background-color: #3B4455;\n",
              "    fill: #D2E3FC;\n",
              "  }\n",
              "\n",
              "  [theme=dark] .colab-df-quickchart:hover {\n",
              "    background-color: #434B5C;\n",
              "    box-shadow: 0px 1px 3px 1px rgba(0, 0, 0, 0.15);\n",
              "    filter: drop-shadow(0px 1px 2px rgba(0, 0, 0, 0.3));\n",
              "    fill: #FFFFFF;\n",
              "  }\n",
              "</style>\n",
              "\n",
              "  <script>\n",
              "    async function quickchart(key) {\n",
              "      const charts = await google.colab.kernel.invokeFunction(\n",
              "          'suggestCharts', [key], {});\n",
              "    }\n",
              "    (() => {\n",
              "      let quickchartButtonEl =\n",
              "        document.querySelector('#df-93759c41-e81e-4588-84ef-38e496c60dea button');\n",
              "      quickchartButtonEl.style.display =\n",
              "        google.colab.kernel.accessAllowed ? 'block' : 'none';\n",
              "    })();\n",
              "  </script>\n",
              "</div>\n",
              "    </div>\n",
              "  </div>\n"
            ]
          },
          "metadata": {},
          "execution_count": 144
        }
      ]
    },
    {
      "cell_type": "markdown",
      "source": [
        "# 1) Write a Python function that calculates the average age of customers who have settled their dues and have a credit score categorized as \"good.\""
      ],
      "metadata": {
        "id": "bKas5oLxh9zo"
      }
    },
    {
      "cell_type": "code",
      "source": [
        "def average_age(df):\n",
        "  return df[(df.creditScore == 'good') & (df.Chist == 'all settled till now')].age.mean()\n",
        "\n",
        "average_age(df)"
      ],
      "metadata": {
        "colab": {
          "base_uri": "https://localhost:8080/"
        },
        "id": "GW3w-Qf3h781",
        "outputId": "c0c56f3b-2e86-4e65-f4ff-1935e1e8d91d"
      },
      "execution_count": 145,
      "outputs": [
        {
          "output_type": "execute_result",
          "data": {
            "text/plain": [
              "34.596199524940616"
            ]
          },
          "metadata": {},
          "execution_count": 145
        }
      ]
    },
    {
      "cell_type": "markdown",
      "source": [
        "# 2) Write a Python function that determines the percentage of customers who have a savings account and own more than one vehicle."
      ],
      "metadata": {
        "id": "MnrG9IN9jhiV"
      }
    },
    {
      "cell_type": "code",
      "source": [
        "def percent_customer(df):\n",
        "  return (df[(df.Sbal != 'no savings account') & (df.Prop == 'Other cars etc.')].shape[0]/df.shape[0] *100)\n",
        "\n",
        "percent_customer(df)"
      ],
      "metadata": {
        "colab": {
          "base_uri": "https://localhost:8080/"
        },
        "id": "7kaOPtHCjjbG",
        "outputId": "80809078-7279-4929-b2cc-2f8c65c224d0"
      },
      "execution_count": 146,
      "outputs": [
        {
          "output_type": "execute_result",
          "data": {
            "text/plain": [
              "27.6"
            ]
          },
          "metadata": {},
          "execution_count": 146
        }
      ]
    },
    {
      "cell_type": "markdown",
      "source": [
        "# 3) Write a Python function that identifies the most common job type among customers who have taken credit for a new vehicle."
      ],
      "metadata": {
        "id": "Q84rHSiHlfGK"
      }
    },
    {
      "cell_type": "code",
      "source": [
        "def identify_common_jobs(df):\n",
        "  return (df[df.Cpur == 'new vehicle'].JobType.value_counts().idxmax())\n",
        "\n",
        "identify_common_jobs(df)"
      ],
      "metadata": {
        "colab": {
          "base_uri": "https://localhost:8080/",
          "height": 35
        },
        "id": "aufoqfjxldzx",
        "outputId": "f0425d84-3354-4ecf-e977-da9ecc949afa"
      },
      "execution_count": 147,
      "outputs": [
        {
          "output_type": "execute_result",
          "data": {
            "text/plain": [
              "'employee with official position'"
            ],
            "application/vnd.google.colaboratory.intrinsic+json": {
              "type": "string"
            }
          },
          "metadata": {},
          "execution_count": 147
        }
      ]
    },
    {
      "cell_type": "markdown",
      "source": [
        "# 4) Write a Python function that calculates the median value of the duration of credit (Cdur) for customers who are divorced, separated, or married females."
      ],
      "metadata": {
        "id": "ruIxZuX9mmXX"
      }
    },
    {
      "cell_type": "code",
      "source": [
        "def median_value_Cdur(df):\n",
        "  return (df[df.MSG == 'divorced or separated or married female'].Cdur.median())\n",
        "\n",
        "median_value_Cdur(df)"
      ],
      "metadata": {
        "colab": {
          "base_uri": "https://localhost:8080/"
        },
        "id": "UIltEukVmpUv",
        "outputId": "503618af-7e9a-4554-cfb3-c477423c6036"
      },
      "execution_count": 148,
      "outputs": [
        {
          "output_type": "execute_result",
          "data": {
            "text/plain": [
              "18.0"
            ]
          },
          "metadata": {},
          "execution_count": 148
        }
      ]
    },
    {
      "cell_type": "markdown",
      "source": [
        "# 5) Write a Python function that categorizes customers based on their credit amount (Camt) into bins: 'low', 'medium', and 'high', and returns the count of customers in each category.\n"
      ],
      "metadata": {
        "id": "StewO50rne6D"
      }
    },
    {
      "cell_type": "code",
      "source": [
        "def categorize_credit(amount):\n",
        "  thresold_1, thresold_2 = df.Camt.quantile([0.33,0.66])\n",
        "  if amount <= thresold_1:\n",
        "    return 'low'\n",
        "  elif amount <= thresold_2:\n",
        "    return 'medium'\n",
        "  else:\n",
        "    return 'high'\n",
        "\n",
        "\n",
        "def categorizes_credit_count(df):\n",
        "  df['bins'] = df['Camt'].apply(categorize_credit)\n",
        "  return (df.bins.value_counts())\n",
        "\n",
        "categorizes_credit_count(df)"
      ],
      "metadata": {
        "colab": {
          "base_uri": "https://localhost:8080/"
        },
        "id": "TlUgVPh7ndhT",
        "outputId": "a48c462e-62fa-48d6-cd1b-7c0d96a7611c"
      },
      "execution_count": 149,
      "outputs": [
        {
          "output_type": "execute_result",
          "data": {
            "text/plain": [
              "high      340\n",
              "low       330\n",
              "medium    330\n",
              "Name: bins, dtype: int64"
            ]
          },
          "metadata": {},
          "execution_count": 149
        }
      ]
    },
    {
      "cell_type": "markdown",
      "source": [
        "# 6) Calculate the conditional probability that a customer has a Credit Amount (Camt) greater than or equal to 30000, given that they own their house."
      ],
      "metadata": {
        "id": "eh_peNbos8im"
      }
    },
    {
      "cell_type": "code",
      "source": [
        "customer_credit_amount_own_home = df[(df.Camt >= 30000) & (df.Htype == 'own')].shape[0]/df.shape[0]\n",
        "own_thier_house = df[df.Htype == 'own'].shape[0]/df.shape[0]"
      ],
      "metadata": {
        "id": "ei70-zQps_7p"
      },
      "execution_count": 150,
      "outputs": []
    },
    {
      "cell_type": "code",
      "source": [
        "Conditional_probablity = customer_credit_amount_own_home/own_thier_house\n",
        "Conditional_probablity"
      ],
      "metadata": {
        "colab": {
          "base_uri": "https://localhost:8080/"
        },
        "id": "MjniP_seu8wm",
        "outputId": "c31ea0e8-a4a2-454f-b2fc-42b14899cd09"
      },
      "execution_count": 151,
      "outputs": [
        {
          "output_type": "execute_result",
          "data": {
            "text/plain": [
              "0.3534361851332399"
            ]
          },
          "metadata": {},
          "execution_count": 151
        }
      ]
    },
    {
      "cell_type": "markdown",
      "source": [
        "# 7) Perform a hypothesis test to determine whether there is a significant difference in the average credit scores between customers who own their house and customers who do not own their house. Use a significance level of 0.05. Please note that you would need to follow the steps of hypothesis testing, such as setting up null and alternative hypotheses, calculating the test statistic, and comparing it to the critical value or p-value to make a conclusion about the significance of the difference in average credit scores."
      ],
      "metadata": {
        "id": "T7smtfkuwwzt"
      }
    },
    {
      "cell_type": "code",
      "source": [
        "from scipy.stats import t\n",
        "\n",
        "# Creating null hypotheses\n",
        "null_hypotheses = \"\"\"There is no significant difference in the average credit scores\n",
        "                    between customers who own their house and customers who do not own their house.\"\"\"\n",
        "\n",
        "# Given data\n",
        "own_house = 713\n",
        "dont_own_house = 287\n",
        "mean_own_house = 30489.3969\n",
        "mean_dont_own_house = 37817.5609\n",
        "std_own_house = 26595.7680\n",
        "std_dontown_house = 31366.1010\n",
        "\n",
        "# Calculate the pooled standard deviation\n",
        "pooled_std = np.sqrt(((own_house - 1) * std_own_house**2 + (dont_own_house - 1) * std_dontown_house**2) / (own_house + dont_own_house - 2))\n",
        "\n",
        "# Calculate the t-statistic\n",
        "t_statistic = (mean_own_house - mean_dont_own_house) / (pooled_std * np.sqrt(1/own_house + 1/dont_own_house))\n",
        "\n",
        "# Degrees of freedom\n",
        "degrees_of_freedom = own_house + dont_own_house - 2\n",
        "\n",
        "# Calculate the p-value\n",
        "p_value = 2 * (1 - t.cdf(np.abs(t_statistic), df=degrees_of_freedom))\n",
        "\n",
        "# Significance level\n",
        "significance_level = 0.05\n",
        "\n",
        "# Compare p-value with significance level\n",
        "print(\"T-Statistic:\", t_statistic)\n",
        "print(\"P-Value:\", p_value)\n",
        "if p_value < significance_level:\n",
        "    print(\"Reject the null hypothesis. There is a significant difference in average credit scores.\")\n",
        "else:\n",
        "    print(\"Fail to reject the null hypothesis. There is no significant difference in average credit scores.\")\n"
      ],
      "metadata": {
        "colab": {
          "base_uri": "https://localhost:8080/"
        },
        "id": "_Jt9A-fKxmIB",
        "outputId": "f469c4ac-6cbd-4af3-9c03-4455d4855c40"
      },
      "execution_count": 152,
      "outputs": [
        {
          "output_type": "stream",
          "name": "stdout",
          "text": [
            "T-Statistic: -3.7377629917528603\n",
            "P-Value: 0.00019620886729621034\n",
            "Reject the null hypothesis. There is a significant difference in average credit scores.\n"
          ]
        }
      ]
    },
    {
      "cell_type": "markdown",
      "source": [
        "# 8) In the context of the given data set with customer information and credit scores, apply a feature selection technique to identify the most important features that contribute to predicting credit scores accurately. Explain the rationale behind your choice of feature selection technique and discuss the impact of feature reduction on model performance."
      ],
      "metadata": {
        "id": "O_bouM4m3jzu"
      }
    },
    {
      "cell_type": "code",
      "source": [
        "from sklearn.feature_selection import RFE\n",
        "from sklearn.model_selection import train_test_split\n",
        "from sklearn.ensemble import RandomForestClassifier\n",
        "\n",
        "\n",
        "X = df.drop(columns='creditScore')\n",
        "y = df['creditScore']\n",
        "from sklearn.preprocessing import LabelEncoder\n",
        "label_encoder = LabelEncoder()\n",
        "for column in X.columns:\n",
        "  if(column not in ['Camt','age']):\n",
        "    X[column] = label_encoder.fit_transform(X[column])\n",
        "    X[column] = X[column].astype(dtype='int')\n",
        "\n",
        "\n",
        "X_train, X_test, y_train, y_test = train_test_split(X, y, test_size=0.25, random_state=42)\n",
        "classifier = RandomForestClassifier()\n",
        "\n",
        "num_features_to_keep = 10\n",
        "rfe = RFE(estimator=classifier, n_features_to_select=num_features_to_keep)\n",
        "rfe.fit(X_train, y_train)\n",
        "selected_features = X.columns[rfe.support_]\n",
        "\n",
        "X_train_selected = rfe.transform(X_train)\n",
        "X_test_selected = rfe.transform(X_test)\n",
        "\n",
        "classifier.fit(X_train_selected, y_train)\n",
        "accuracy = classifier.score(X_test_selected, y_test)\n",
        "\n",
        "print(\"Selected Features:\", selected_features)\n",
        "print(\"Classifier Accuracy:\", accuracy)\n",
        "\n",
        "\n",
        "\n",
        "'''I choose RFE(Recursive Feature Elimination) because it is one of the commonly\n",
        "used feature selection methods besides looking at Correlation HeatMap\n",
        "One of the most important reason is beacuse it removes the features iteratively'''"
      ],
      "metadata": {
        "colab": {
          "base_uri": "https://localhost:8080/",
          "height": 140
        },
        "id": "vC-FlPWx_Kql",
        "outputId": "9ffc6dc8-3c19-4f4e-c5f3-558bb4666d43"
      },
      "execution_count": 153,
      "outputs": [
        {
          "output_type": "stream",
          "name": "stdout",
          "text": [
            "Selected Features: Index(['Cbal', 'Cdur', 'Chist', 'Cpur', 'Camt', 'Sbal', 'Edur', 'InRate',\n",
            "       'Prop', 'age'],\n",
            "      dtype='object')\n",
            "Classifier Accuracy: 0.796\n"
          ]
        },
        {
          "output_type": "execute_result",
          "data": {
            "text/plain": [
              "'I choose RFE(Recursive Feature Elimination) because it is one of the commonly \\nused feature selection methods besides looking at Correlation HeatMap \\nOne of the most important reason is beacuse it removes the features iteratively'"
            ],
            "application/vnd.google.colaboratory.intrinsic+json": {
              "type": "string"
            }
          },
          "metadata": {},
          "execution_count": 153
        }
      ]
    },
    {
      "cell_type": "markdown",
      "source": [
        "# 9) Utilizing the data set containing customer features and credit scores, create a classification model to classify customers into two categories: \"good\" credit score and \"bad\" credit score. Train the model and assess its accuracy, precision, recall, and F1-score evaluation will be done on these parameters."
      ],
      "metadata": {
        "id": "hdmHono2Auy4"
      }
    },
    {
      "cell_type": "code",
      "source": [
        "from sklearn.preprocessing import LabelEncoder\n",
        "from sklearn.model_selection import train_test_split\n",
        "from sklearn.ensemble import RandomForestClassifier\n",
        "from sklearn.metrics import accuracy_score, classification_report\n",
        "\n",
        "\n",
        "X = df[selected_features]\n",
        "y = df['creditScore']\n",
        "\n",
        "label_encoder = LabelEncoder()\n",
        "for column in X.columns:\n",
        "  if(column not in ['Camt','age']):\n",
        "    X[column] = label_encoder.fit_transform(X[column])\n",
        "    X[column] = X[column].astype(dtype='int')\n",
        "\n",
        "x_train, x_test, y_train, y_test = train_test_split(X, y, test_size=0.25, random_state=42)\n",
        "\n",
        "model = RandomForestClassifier()\n",
        "model.fit(x_train,y_train)\n",
        "\n",
        "y_pred = model.predict(x_test)\n",
        "\n",
        "print(classification_report(y_test,y_pred))\n",
        "print(f\"Accuray: {accuracy_score(y_test,y_pred)} \")"
      ],
      "metadata": {
        "colab": {
          "base_uri": "https://localhost:8080/"
        },
        "id": "63-9TseuAwgY",
        "outputId": "c2d46b36-18a8-413d-91e6-7600104f2422"
      },
      "execution_count": 162,
      "outputs": [
        {
          "output_type": "stream",
          "name": "stdout",
          "text": [
            "              precision    recall  f1-score   support\n",
            "\n",
            "         bad       0.70      0.54      0.61        74\n",
            "        good       0.82      0.90      0.86       176\n",
            "\n",
            "    accuracy                           0.80       250\n",
            "   macro avg       0.76      0.72      0.74       250\n",
            "weighted avg       0.79      0.80      0.79       250\n",
            "\n",
            "Accuray: 0.796 \n"
          ]
        }
      ]
    },
    {
      "cell_type": "markdown",
      "source": [
        "# 10) How many Persons are there who are in their 50s and whose Marital status is Single"
      ],
      "metadata": {
        "id": "xLIIqfZQEADS"
      }
    },
    {
      "cell_type": "code",
      "source": [
        "df.MSG.value_counts()"
      ],
      "metadata": {
        "colab": {
          "base_uri": "https://localhost:8080/"
        },
        "id": "rOHxmjJtFWb1",
        "outputId": "ba581a9a-38fd-4dac-9835-431ebeb95e17"
      },
      "execution_count": 166,
      "outputs": [
        {
          "output_type": "execute_result",
          "data": {
            "text/plain": [
              "single male                                548\n",
              "divorced or separated or married female    310\n",
              "married or widowed male                     92\n",
              "divorced or separated male                  50\n",
              "Name: MSG, dtype: int64"
            ]
          },
          "metadata": {},
          "execution_count": 166
        }
      ]
    },
    {
      "cell_type": "code",
      "source": [
        "df[(df.age >= 50) & (df.age > 60) & (df.MSG == 'single male')].shape[0]\n",
        "\n",
        "# just in case it is if it is SQL\n",
        "\n",
        "'''\n",
        "select count(*)\n",
        "from creditWorthiness\n",
        "where age between 50 and 60\n",
        "and MSG = 'single male'\n",
        "\n",
        "'''"
      ],
      "metadata": {
        "colab": {
          "base_uri": "https://localhost:8080/"
        },
        "id": "C0Ayhzl3D_nN",
        "outputId": "ec929720-b38c-4d85-cd68-198fb42972a1"
      },
      "execution_count": 165,
      "outputs": [
        {
          "output_type": "execute_result",
          "data": {
            "text/plain": [
              "30"
            ]
          },
          "metadata": {},
          "execution_count": 165
        }
      ]
    },
    {
      "cell_type": "code",
      "source": [
        "df.columns"
      ],
      "metadata": {
        "colab": {
          "base_uri": "https://localhost:8080/"
        },
        "id": "KsNG1Y6QGFEZ",
        "outputId": "b6e04ae1-1a57-445c-d550-94cf233fe58f"
      },
      "execution_count": 167,
      "outputs": [
        {
          "output_type": "execute_result",
          "data": {
            "text/plain": [
              "Index(['Cbal', 'Cdur', 'Chist', 'Cpur', 'Camt', 'Sbal', 'Edur', 'InRate',\n",
              "       'MSG', 'Oparties', 'Rdur', 'Prop', 'age', 'inPlans', 'Htype', 'NumCred',\n",
              "       'JobType', 'Ndepend', 'telephone', 'foreign', 'creditScore', 'bins'],\n",
              "      dtype='object')"
            ]
          },
          "metadata": {},
          "execution_count": 167
        }
      ]
    },
    {
      "cell_type": "markdown",
      "source": [
        "# 11) Create a UDF that will extract the data in table form based on credit score(credit score) and Purpose of the loan(Cpur)"
      ],
      "metadata": {
        "id": "54k2hKDlF2H3"
      }
    },
    {
      "cell_type": "code",
      "source": [
        "'''\n",
        "create function get_data (\n",
        "    @creditScore INT,\n",
        "    @loanPurpose VARCHAR(255)\n",
        ")\n",
        "returns table\n",
        "as\n",
        "return (\n",
        "    select *\n",
        "    from creditWorthiness\n",
        "    where CreditScore = @creditScore\n",
        "      and Cpur = @loanPurpose\n",
        ");\n",
        "\n",
        "select *\n",
        "from get_data(700, 'housing');\n",
        "'''"
      ],
      "metadata": {
        "colab": {
          "base_uri": "https://localhost:8080/",
          "height": 70
        },
        "id": "Y0ucqqOYF1fB",
        "outputId": "b7809955-6d23-4425-8832-f635bceca98f"
      },
      "execution_count": 169,
      "outputs": [
        {
          "output_type": "execute_result",
          "data": {
            "text/plain": [
              "\"\\ncreate function get_data (\\n    @creditScore INT,\\n    @loanPurpose VARCHAR(255)\\n)\\nreturns table\\nas\\nreturn (\\n    select *\\n    from creditWorthiness\\n    where CreditScore = @creditScore\\n      and Cpur = @loanPurpose\\n);\\n\\nselect *\\nfrom get_data(700, 'housing');\\n\""
            ],
            "application/vnd.google.colaboratory.intrinsic+json": {
              "type": "string"
            }
          },
          "metadata": {},
          "execution_count": 169
        }
      ]
    },
    {
      "cell_type": "markdown",
      "source": [
        "# 12) Write a query to fetch the data of the borrower who is foreign and has a duration of credit of more than 10 months."
      ],
      "metadata": {
        "id": "2pvdJrMrGXlw"
      }
    },
    {
      "cell_type": "code",
      "source": [
        "'''\n",
        "select *\n",
        "from creditWorthiness\n",
        "where foreign = 'yes\n",
        "and Cdur > 10\n",
        "'''"
      ],
      "metadata": {
        "colab": {
          "base_uri": "https://localhost:8080/",
          "height": 35
        },
        "id": "lByEcYefGZl1",
        "outputId": "05e0cfdc-220e-44e7-8d1c-236556960581"
      },
      "execution_count": 168,
      "outputs": [
        {
          "output_type": "execute_result",
          "data": {
            "text/plain": [
              "\"\\nselect * \\nfrom creditWorthiness\\nwhere foreign = 'yes \\nand Cdur > 10\\n\\n\""
            ],
            "application/vnd.google.colaboratory.intrinsic+json": {
              "type": "string"
            }
          },
          "metadata": {},
          "execution_count": 168
        }
      ]
    },
    {
      "cell_type": "markdown",
      "source": [
        "# 13) Write a query to fetch the data whose Balance in the savings bank is greater than 1000 RS but still have a Bad credit score."
      ],
      "metadata": {
        "id": "MxnFznV1HWj9"
      }
    },
    {
      "cell_type": "code",
      "source": [
        "'''\n",
        "select *\n",
        "from creditWorthiness\n",
        "where Sbal = '1000 <= Rs. < 5,000'\n",
        "and creditScore = 'bad'\n",
        "'''"
      ],
      "metadata": {
        "id": "O0sDEizpHYqm"
      },
      "execution_count": null,
      "outputs": []
    },
    {
      "cell_type": "markdown",
      "source": [
        "# 14) Based on every job type find the highest amount under credit/loan and find the entire data for that borrower"
      ],
      "metadata": {
        "id": "Q5CWXWmWIqPe"
      }
    },
    {
      "cell_type": "code",
      "source": [
        "'''\n",
        "select t.*\n",
        "FROM creditWorthiness t\n",
        "JOIN (\n",
        "    SELECT JobType, max(Camt) AS MaxLoanAmount\n",
        "    FROM creditWorthiness\n",
        "    GROUP BY JobType\n",
        ") max_amounts ON t.JobType = max_amounts.JobType AND t.Camt = max_amounts.MaxLoanAmount;\n",
        "\n",
        "'''"
      ],
      "metadata": {
        "id": "oexVlG47Is00"
      },
      "execution_count": null,
      "outputs": []
    }
  ]
}